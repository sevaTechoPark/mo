{
 "cells": [
  {
   "cell_type": "markdown",
   "id": "95ff930f-f85a-43ec-af59-fc8a7cc49bab",
   "metadata": {},
   "source": [
    "В конце 2017 года платформа Civil Comments закрылась и опубликовала около 2 миллионов комментариев из социальных сетей, чтобы специалисты по данным со всего мира могли работать вместе над исследованием способов смягчения предвзятости в текстовых данных."
   ]
  },
  {
   "cell_type": "markdown",
   "id": "f8451757-7931-4153-9595-f94dcee8437d",
   "metadata": {},
   "source": [
    "# Установка и импорт библиотек"
   ]
  },
  {
   "cell_type": "code",
   "execution_count": 3,
   "id": "7321beb0-c568-4aa4-b131-07c50deff7c9",
   "metadata": {},
   "outputs": [],
   "source": [
    "!pip install numpy pandas --quiet\n",
    "!pip install scikit-learn --quiet"
   ]
  },
  {
   "cell_type": "code",
   "execution_count": 4,
   "id": "cc83162d-8513-4160-b2cb-95007046a612",
   "metadata": {},
   "outputs": [],
   "source": [
    "# иморитирование всех необходимых библиотек\n",
    "import pandas as pd\n",
    "import numpy as np\n",
    "from scipy.sparse import hstack\n",
    "from sklearn.model_selection import train_test_split\n",
    "from sklearn.feature_extraction.text import CountVectorizer\n",
    "from sklearn.linear_model import LogisticRegression\n",
    "from sklearn.metrics import accuracy_score"
   ]
  },
  {
   "cell_type": "markdown",
   "id": "2573d496-c232-472d-817c-ffa208674410",
   "metadata": {},
   "source": [
    "# Загрузка данных"
   ]
  },
  {
   "cell_type": "code",
   "execution_count": 6,
   "id": "7780d2b3-7d66-411b-a211-114947f8217d",
   "metadata": {},
   "outputs": [],
   "source": [
    "df = pd.read_csv('../data/toxic_comments/data_civil.csv')"
   ]
  },
  {
   "cell_type": "code",
   "execution_count": 7,
   "id": "5a0e3207-b10a-4658-b50c-3a6689b60dfa",
   "metadata": {},
   "outputs": [
    {
     "data": {
      "text/html": [
       "<div>\n",
       "<style scoped>\n",
       "    .dataframe tbody tr th:only-of-type {\n",
       "        vertical-align: middle;\n",
       "    }\n",
       "\n",
       "    .dataframe tbody tr th {\n",
       "        vertical-align: top;\n",
       "    }\n",
       "\n",
       "    .dataframe thead th {\n",
       "        text-align: right;\n",
       "    }\n",
       "</style>\n",
       "<table border=\"1\" class=\"dataframe\">\n",
       "  <thead>\n",
       "    <tr style=\"text-align: right;\">\n",
       "      <th></th>\n",
       "      <th>id</th>\n",
       "      <th>target</th>\n",
       "      <th>comment_text</th>\n",
       "      <th>severe_toxicity</th>\n",
       "      <th>obscene</th>\n",
       "      <th>identity_attack</th>\n",
       "      <th>insult</th>\n",
       "      <th>threat</th>\n",
       "      <th>asian</th>\n",
       "      <th>atheist</th>\n",
       "      <th>...</th>\n",
       "      <th>article_id</th>\n",
       "      <th>rating</th>\n",
       "      <th>funny</th>\n",
       "      <th>wow</th>\n",
       "      <th>sad</th>\n",
       "      <th>likes</th>\n",
       "      <th>disagree</th>\n",
       "      <th>sexual_explicit</th>\n",
       "      <th>identity_annotator_count</th>\n",
       "      <th>toxicity_annotator_count</th>\n",
       "    </tr>\n",
       "  </thead>\n",
       "  <tbody>\n",
       "    <tr>\n",
       "      <th>0</th>\n",
       "      <td>59856</td>\n",
       "      <td>0.893617</td>\n",
       "      <td>haha you guys are a bunch of losers.</td>\n",
       "      <td>0.021277</td>\n",
       "      <td>0.000000</td>\n",
       "      <td>0.021277</td>\n",
       "      <td>0.872340</td>\n",
       "      <td>0.0000</td>\n",
       "      <td>0.0</td>\n",
       "      <td>0.0</td>\n",
       "      <td>...</td>\n",
       "      <td>2006</td>\n",
       "      <td>rejected</td>\n",
       "      <td>0</td>\n",
       "      <td>0</td>\n",
       "      <td>0</td>\n",
       "      <td>1</td>\n",
       "      <td>0</td>\n",
       "      <td>0.000000</td>\n",
       "      <td>4</td>\n",
       "      <td>47</td>\n",
       "    </tr>\n",
       "    <tr>\n",
       "      <th>1</th>\n",
       "      <td>239607</td>\n",
       "      <td>0.912500</td>\n",
       "      <td>Yet call out all Muslims for the acts of a few...</td>\n",
       "      <td>0.050000</td>\n",
       "      <td>0.237500</td>\n",
       "      <td>0.612500</td>\n",
       "      <td>0.887500</td>\n",
       "      <td>0.1125</td>\n",
       "      <td>0.0</td>\n",
       "      <td>0.0</td>\n",
       "      <td>...</td>\n",
       "      <td>26670</td>\n",
       "      <td>approved</td>\n",
       "      <td>0</td>\n",
       "      <td>0</td>\n",
       "      <td>0</td>\n",
       "      <td>1</td>\n",
       "      <td>0</td>\n",
       "      <td>0.000000</td>\n",
       "      <td>4</td>\n",
       "      <td>80</td>\n",
       "    </tr>\n",
       "    <tr>\n",
       "      <th>2</th>\n",
       "      <td>239612</td>\n",
       "      <td>0.830769</td>\n",
       "      <td>This bitch is nuts. Who would read a book by a...</td>\n",
       "      <td>0.107692</td>\n",
       "      <td>0.661538</td>\n",
       "      <td>0.338462</td>\n",
       "      <td>0.830769</td>\n",
       "      <td>0.0000</td>\n",
       "      <td>0.0</td>\n",
       "      <td>0.0</td>\n",
       "      <td>...</td>\n",
       "      <td>26674</td>\n",
       "      <td>rejected</td>\n",
       "      <td>0</td>\n",
       "      <td>0</td>\n",
       "      <td>0</td>\n",
       "      <td>0</td>\n",
       "      <td>0</td>\n",
       "      <td>0.061538</td>\n",
       "      <td>4</td>\n",
       "      <td>65</td>\n",
       "    </tr>\n",
       "    <tr>\n",
       "      <th>3</th>\n",
       "      <td>240311</td>\n",
       "      <td>0.968750</td>\n",
       "      <td>You're an idiot.</td>\n",
       "      <td>0.031250</td>\n",
       "      <td>0.062500</td>\n",
       "      <td>0.000000</td>\n",
       "      <td>0.968750</td>\n",
       "      <td>0.0000</td>\n",
       "      <td>NaN</td>\n",
       "      <td>NaN</td>\n",
       "      <td>...</td>\n",
       "      <td>32846</td>\n",
       "      <td>rejected</td>\n",
       "      <td>0</td>\n",
       "      <td>0</td>\n",
       "      <td>0</td>\n",
       "      <td>0</td>\n",
       "      <td>0</td>\n",
       "      <td>0.000000</td>\n",
       "      <td>0</td>\n",
       "      <td>32</td>\n",
       "    </tr>\n",
       "    <tr>\n",
       "      <th>4</th>\n",
       "      <td>240329</td>\n",
       "      <td>0.900000</td>\n",
       "      <td>Who cares!? Stark trek and Star Wars fans are ...</td>\n",
       "      <td>0.100000</td>\n",
       "      <td>0.200000</td>\n",
       "      <td>0.000000</td>\n",
       "      <td>0.900000</td>\n",
       "      <td>0.0000</td>\n",
       "      <td>NaN</td>\n",
       "      <td>NaN</td>\n",
       "      <td>...</td>\n",
       "      <td>32846</td>\n",
       "      <td>rejected</td>\n",
       "      <td>0</td>\n",
       "      <td>0</td>\n",
       "      <td>0</td>\n",
       "      <td>0</td>\n",
       "      <td>0</td>\n",
       "      <td>0.300000</td>\n",
       "      <td>0</td>\n",
       "      <td>10</td>\n",
       "    </tr>\n",
       "  </tbody>\n",
       "</table>\n",
       "<p>5 rows × 45 columns</p>\n",
       "</div>"
      ],
      "text/plain": [
       "       id    target                                       comment_text  \\\n",
       "0   59856  0.893617               haha you guys are a bunch of losers.   \n",
       "1  239607  0.912500  Yet call out all Muslims for the acts of a few...   \n",
       "2  239612  0.830769  This bitch is nuts. Who would read a book by a...   \n",
       "3  240311  0.968750                                   You're an idiot.   \n",
       "4  240329  0.900000  Who cares!? Stark trek and Star Wars fans are ...   \n",
       "\n",
       "   severe_toxicity   obscene  identity_attack    insult  threat  asian  \\\n",
       "0         0.021277  0.000000         0.021277  0.872340  0.0000    0.0   \n",
       "1         0.050000  0.237500         0.612500  0.887500  0.1125    0.0   \n",
       "2         0.107692  0.661538         0.338462  0.830769  0.0000    0.0   \n",
       "3         0.031250  0.062500         0.000000  0.968750  0.0000    NaN   \n",
       "4         0.100000  0.200000         0.000000  0.900000  0.0000    NaN   \n",
       "\n",
       "   atheist  ...  article_id    rating  funny  wow  sad  likes  disagree  \\\n",
       "0      0.0  ...        2006  rejected      0    0    0      1         0   \n",
       "1      0.0  ...       26670  approved      0    0    0      1         0   \n",
       "2      0.0  ...       26674  rejected      0    0    0      0         0   \n",
       "3      NaN  ...       32846  rejected      0    0    0      0         0   \n",
       "4      NaN  ...       32846  rejected      0    0    0      0         0   \n",
       "\n",
       "   sexual_explicit  identity_annotator_count  toxicity_annotator_count  \n",
       "0         0.000000                         4                        47  \n",
       "1         0.000000                         4                        80  \n",
       "2         0.061538                         4                        65  \n",
       "3         0.000000                         0                        32  \n",
       "4         0.300000                         0                        10  \n",
       "\n",
       "[5 rows x 45 columns]"
      ]
     },
     "execution_count": 7,
     "metadata": {},
     "output_type": "execute_result"
    }
   ],
   "source": [
    "df.head(5)"
   ]
  },
  {
   "cell_type": "markdown",
   "id": "7d65fc97-ac45-42f4-a146-66fb180ea585",
   "metadata": {},
   "source": [
    "# Анализ данных"
   ]
  },
  {
   "cell_type": "code",
   "execution_count": 9,
   "id": "2f1482c9-9214-4f67-83de-5cdf150d2ff7",
   "metadata": {},
   "outputs": [
    {
     "name": "stdout",
     "output_type": "stream",
     "text": [
      "<class 'pandas.core.frame.DataFrame'>\n",
      "RangeIndex: 90902 entries, 0 to 90901\n",
      "Data columns (total 45 columns):\n",
      " #   Column                               Non-Null Count  Dtype  \n",
      "---  ------                               --------------  -----  \n",
      " 0   id                                   90902 non-null  int64  \n",
      " 1   target                               90902 non-null  float64\n",
      " 2   comment_text                         90902 non-null  object \n",
      " 3   severe_toxicity                      90902 non-null  float64\n",
      " 4   obscene                              90902 non-null  float64\n",
      " 5   identity_attack                      90902 non-null  float64\n",
      " 6   insult                               90902 non-null  float64\n",
      " 7   threat                               90902 non-null  float64\n",
      " 8   asian                                21687 non-null  float64\n",
      " 9   atheist                              21687 non-null  float64\n",
      " 10  bisexual                             21687 non-null  float64\n",
      " 11  black                                21687 non-null  float64\n",
      " 12  buddhist                             21687 non-null  float64\n",
      " 13  christian                            21687 non-null  float64\n",
      " 14  female                               21687 non-null  float64\n",
      " 15  heterosexual                         21687 non-null  float64\n",
      " 16  hindu                                21687 non-null  float64\n",
      " 17  homosexual_gay_or_lesbian            21687 non-null  float64\n",
      " 18  intellectual_or_learning_disability  21687 non-null  float64\n",
      " 19  jewish                               21687 non-null  float64\n",
      " 20  latino                               21687 non-null  float64\n",
      " 21  male                                 21687 non-null  float64\n",
      " 22  muslim                               21687 non-null  float64\n",
      " 23  other_disability                     21687 non-null  float64\n",
      " 24  other_gender                         21687 non-null  float64\n",
      " 25  other_race_or_ethnicity              21687 non-null  float64\n",
      " 26  other_religion                       21687 non-null  float64\n",
      " 27  other_sexual_orientation             21687 non-null  float64\n",
      " 28  physical_disability                  21687 non-null  float64\n",
      " 29  psychiatric_or_mental_illness        21687 non-null  float64\n",
      " 30  transgender                          21687 non-null  float64\n",
      " 31  white                                21687 non-null  float64\n",
      " 32  created_date                         90902 non-null  object \n",
      " 33  publication_id                       90902 non-null  int64  \n",
      " 34  parent_id                            49830 non-null  float64\n",
      " 35  article_id                           90902 non-null  int64  \n",
      " 36  rating                               90902 non-null  object \n",
      " 37  funny                                90902 non-null  int64  \n",
      " 38  wow                                  90902 non-null  int64  \n",
      " 39  sad                                  90902 non-null  int64  \n",
      " 40  likes                                90902 non-null  int64  \n",
      " 41  disagree                             90902 non-null  int64  \n",
      " 42  sexual_explicit                      90902 non-null  float64\n",
      " 43  identity_annotator_count             90902 non-null  int64  \n",
      " 44  toxicity_annotator_count             90902 non-null  int64  \n",
      "dtypes: float64(32), int64(10), object(3)\n",
      "memory usage: 31.2+ MB\n"
     ]
    }
   ],
   "source": [
    "df.info()"
   ]
  },
  {
   "cell_type": "code",
   "execution_count": 10,
   "id": "10f80d9f-4c4d-4b75-b10c-76ee4a0beb64",
   "metadata": {},
   "outputs": [
    {
     "data": {
      "text/html": [
       "<div>\n",
       "<style scoped>\n",
       "    .dataframe tbody tr th:only-of-type {\n",
       "        vertical-align: middle;\n",
       "    }\n",
       "\n",
       "    .dataframe tbody tr th {\n",
       "        vertical-align: top;\n",
       "    }\n",
       "\n",
       "    .dataframe thead th {\n",
       "        text-align: right;\n",
       "    }\n",
       "</style>\n",
       "<table border=\"1\" class=\"dataframe\">\n",
       "  <thead>\n",
       "    <tr style=\"text-align: right;\">\n",
       "      <th></th>\n",
       "      <th>id</th>\n",
       "      <th>target</th>\n",
       "      <th>severe_toxicity</th>\n",
       "      <th>obscene</th>\n",
       "      <th>identity_attack</th>\n",
       "      <th>insult</th>\n",
       "      <th>threat</th>\n",
       "      <th>asian</th>\n",
       "      <th>atheist</th>\n",
       "      <th>bisexual</th>\n",
       "      <th>...</th>\n",
       "      <th>parent_id</th>\n",
       "      <th>article_id</th>\n",
       "      <th>funny</th>\n",
       "      <th>wow</th>\n",
       "      <th>sad</th>\n",
       "      <th>likes</th>\n",
       "      <th>disagree</th>\n",
       "      <th>sexual_explicit</th>\n",
       "      <th>identity_annotator_count</th>\n",
       "      <th>toxicity_annotator_count</th>\n",
       "    </tr>\n",
       "  </thead>\n",
       "  <tbody>\n",
       "    <tr>\n",
       "      <th>count</th>\n",
       "      <td>9.090200e+04</td>\n",
       "      <td>90902.000000</td>\n",
       "      <td>90902.000000</td>\n",
       "      <td>90902.000000</td>\n",
       "      <td>90902.000000</td>\n",
       "      <td>90902.000000</td>\n",
       "      <td>90902.000000</td>\n",
       "      <td>21687.00000</td>\n",
       "      <td>21687.000000</td>\n",
       "      <td>21687.000000</td>\n",
       "      <td>...</td>\n",
       "      <td>4.983000e+04</td>\n",
       "      <td>90902.000000</td>\n",
       "      <td>90902.000000</td>\n",
       "      <td>90902.000000</td>\n",
       "      <td>90902.000000</td>\n",
       "      <td>90902.000000</td>\n",
       "      <td>90902.000000</td>\n",
       "      <td>90902.000000</td>\n",
       "      <td>90902.000000</td>\n",
       "      <td>90902.000000</td>\n",
       "    </tr>\n",
       "    <tr>\n",
       "      <th>mean</th>\n",
       "      <td>3.741905e+06</td>\n",
       "      <td>0.430254</td>\n",
       "      <td>0.020783</td>\n",
       "      <td>0.091598</td>\n",
       "      <td>0.054786</td>\n",
       "      <td>0.381360</td>\n",
       "      <td>0.025486</td>\n",
       "      <td>0.01059</td>\n",
       "      <td>0.003179</td>\n",
       "      <td>0.001616</td>\n",
       "      <td>...</td>\n",
       "      <td>3.683063e+06</td>\n",
       "      <td>281545.713736</td>\n",
       "      <td>0.258938</td>\n",
       "      <td>0.043365</td>\n",
       "      <td>0.106741</td>\n",
       "      <td>2.334360</td>\n",
       "      <td>0.559207</td>\n",
       "      <td>0.023667</td>\n",
       "      <td>1.535489</td>\n",
       "      <td>36.632560</td>\n",
       "    </tr>\n",
       "    <tr>\n",
       "      <th>std</th>\n",
       "      <td>2.450000e+06</td>\n",
       "      <td>0.406086</td>\n",
       "      <td>0.043101</td>\n",
       "      <td>0.182411</td>\n",
       "      <td>0.147375</td>\n",
       "      <td>0.386545</td>\n",
       "      <td>0.109004</td>\n",
       "      <td>0.08227</td>\n",
       "      <td>0.051270</td>\n",
       "      <td>0.024006</td>\n",
       "      <td>...</td>\n",
       "      <td>2.458295e+06</td>\n",
       "      <td>104028.940513</td>\n",
       "      <td>0.994396</td>\n",
       "      <td>0.240804</td>\n",
       "      <td>0.453165</td>\n",
       "      <td>4.587831</td>\n",
       "      <td>1.735908</td>\n",
       "      <td>0.106960</td>\n",
       "      <td>18.199186</td>\n",
       "      <td>147.288485</td>\n",
       "    </tr>\n",
       "    <tr>\n",
       "      <th>min</th>\n",
       "      <td>5.985600e+04</td>\n",
       "      <td>0.000000</td>\n",
       "      <td>0.000000</td>\n",
       "      <td>0.000000</td>\n",
       "      <td>0.000000</td>\n",
       "      <td>0.000000</td>\n",
       "      <td>0.000000</td>\n",
       "      <td>0.00000</td>\n",
       "      <td>0.000000</td>\n",
       "      <td>0.000000</td>\n",
       "      <td>...</td>\n",
       "      <td>2.210600e+05</td>\n",
       "      <td>2006.000000</td>\n",
       "      <td>0.000000</td>\n",
       "      <td>0.000000</td>\n",
       "      <td>0.000000</td>\n",
       "      <td>0.000000</td>\n",
       "      <td>0.000000</td>\n",
       "      <td>0.000000</td>\n",
       "      <td>0.000000</td>\n",
       "      <td>3.000000</td>\n",
       "    </tr>\n",
       "    <tr>\n",
       "      <th>25%</th>\n",
       "      <td>7.921310e+05</td>\n",
       "      <td>0.000000</td>\n",
       "      <td>0.000000</td>\n",
       "      <td>0.000000</td>\n",
       "      <td>0.000000</td>\n",
       "      <td>0.000000</td>\n",
       "      <td>0.000000</td>\n",
       "      <td>0.00000</td>\n",
       "      <td>0.000000</td>\n",
       "      <td>0.000000</td>\n",
       "      <td>...</td>\n",
       "      <td>7.825040e+05</td>\n",
       "      <td>159937.000000</td>\n",
       "      <td>0.000000</td>\n",
       "      <td>0.000000</td>\n",
       "      <td>0.000000</td>\n",
       "      <td>0.000000</td>\n",
       "      <td>0.000000</td>\n",
       "      <td>0.000000</td>\n",
       "      <td>0.000000</td>\n",
       "      <td>4.000000</td>\n",
       "    </tr>\n",
       "    <tr>\n",
       "      <th>50%</th>\n",
       "      <td>5.232225e+06</td>\n",
       "      <td>0.500120</td>\n",
       "      <td>0.000000</td>\n",
       "      <td>0.000000</td>\n",
       "      <td>0.000000</td>\n",
       "      <td>0.200000</td>\n",
       "      <td>0.000000</td>\n",
       "      <td>0.00000</td>\n",
       "      <td>0.000000</td>\n",
       "      <td>0.000000</td>\n",
       "      <td>...</td>\n",
       "      <td>5.208236e+06</td>\n",
       "      <td>332720.500000</td>\n",
       "      <td>0.000000</td>\n",
       "      <td>0.000000</td>\n",
       "      <td>0.000000</td>\n",
       "      <td>1.000000</td>\n",
       "      <td>0.000000</td>\n",
       "      <td>0.000000</td>\n",
       "      <td>0.000000</td>\n",
       "      <td>6.000000</td>\n",
       "    </tr>\n",
       "    <tr>\n",
       "      <th>75%</th>\n",
       "      <td>5.785647e+06</td>\n",
       "      <td>0.810345</td>\n",
       "      <td>0.026316</td>\n",
       "      <td>0.116667</td>\n",
       "      <td>0.021739</td>\n",
       "      <td>0.785714</td>\n",
       "      <td>0.000000</td>\n",
       "      <td>0.00000</td>\n",
       "      <td>0.000000</td>\n",
       "      <td>0.000000</td>\n",
       "      <td>...</td>\n",
       "      <td>5.769276e+06</td>\n",
       "      <td>367055.000000</td>\n",
       "      <td>0.000000</td>\n",
       "      <td>0.000000</td>\n",
       "      <td>0.000000</td>\n",
       "      <td>3.000000</td>\n",
       "      <td>0.000000</td>\n",
       "      <td>0.000000</td>\n",
       "      <td>0.000000</td>\n",
       "      <td>58.000000</td>\n",
       "    </tr>\n",
       "    <tr>\n",
       "      <th>max</th>\n",
       "      <td>6.333872e+06</td>\n",
       "      <td>1.000000</td>\n",
       "      <td>1.000000</td>\n",
       "      <td>1.000000</td>\n",
       "      <td>1.000000</td>\n",
       "      <td>1.000000</td>\n",
       "      <td>1.000000</td>\n",
       "      <td>1.00000</td>\n",
       "      <td>1.000000</td>\n",
       "      <td>1.000000</td>\n",
       "      <td>...</td>\n",
       "      <td>6.333696e+06</td>\n",
       "      <td>399523.000000</td>\n",
       "      <td>58.000000</td>\n",
       "      <td>8.000000</td>\n",
       "      <td>16.000000</td>\n",
       "      <td>224.000000</td>\n",
       "      <td>96.000000</td>\n",
       "      <td>1.000000</td>\n",
       "      <td>1838.000000</td>\n",
       "      <td>4936.000000</td>\n",
       "    </tr>\n",
       "  </tbody>\n",
       "</table>\n",
       "<p>8 rows × 42 columns</p>\n",
       "</div>"
      ],
      "text/plain": [
       "                 id        target  severe_toxicity       obscene  \\\n",
       "count  9.090200e+04  90902.000000     90902.000000  90902.000000   \n",
       "mean   3.741905e+06      0.430254         0.020783      0.091598   \n",
       "std    2.450000e+06      0.406086         0.043101      0.182411   \n",
       "min    5.985600e+04      0.000000         0.000000      0.000000   \n",
       "25%    7.921310e+05      0.000000         0.000000      0.000000   \n",
       "50%    5.232225e+06      0.500120         0.000000      0.000000   \n",
       "75%    5.785647e+06      0.810345         0.026316      0.116667   \n",
       "max    6.333872e+06      1.000000         1.000000      1.000000   \n",
       "\n",
       "       identity_attack        insult        threat        asian       atheist  \\\n",
       "count     90902.000000  90902.000000  90902.000000  21687.00000  21687.000000   \n",
       "mean          0.054786      0.381360      0.025486      0.01059      0.003179   \n",
       "std           0.147375      0.386545      0.109004      0.08227      0.051270   \n",
       "min           0.000000      0.000000      0.000000      0.00000      0.000000   \n",
       "25%           0.000000      0.000000      0.000000      0.00000      0.000000   \n",
       "50%           0.000000      0.200000      0.000000      0.00000      0.000000   \n",
       "75%           0.021739      0.785714      0.000000      0.00000      0.000000   \n",
       "max           1.000000      1.000000      1.000000      1.00000      1.000000   \n",
       "\n",
       "           bisexual  ...     parent_id     article_id         funny  \\\n",
       "count  21687.000000  ...  4.983000e+04   90902.000000  90902.000000   \n",
       "mean       0.001616  ...  3.683063e+06  281545.713736      0.258938   \n",
       "std        0.024006  ...  2.458295e+06  104028.940513      0.994396   \n",
       "min        0.000000  ...  2.210600e+05    2006.000000      0.000000   \n",
       "25%        0.000000  ...  7.825040e+05  159937.000000      0.000000   \n",
       "50%        0.000000  ...  5.208236e+06  332720.500000      0.000000   \n",
       "75%        0.000000  ...  5.769276e+06  367055.000000      0.000000   \n",
       "max        1.000000  ...  6.333696e+06  399523.000000     58.000000   \n",
       "\n",
       "                wow           sad         likes      disagree  \\\n",
       "count  90902.000000  90902.000000  90902.000000  90902.000000   \n",
       "mean       0.043365      0.106741      2.334360      0.559207   \n",
       "std        0.240804      0.453165      4.587831      1.735908   \n",
       "min        0.000000      0.000000      0.000000      0.000000   \n",
       "25%        0.000000      0.000000      0.000000      0.000000   \n",
       "50%        0.000000      0.000000      1.000000      0.000000   \n",
       "75%        0.000000      0.000000      3.000000      0.000000   \n",
       "max        8.000000     16.000000    224.000000     96.000000   \n",
       "\n",
       "       sexual_explicit  identity_annotator_count  toxicity_annotator_count  \n",
       "count     90902.000000              90902.000000              90902.000000  \n",
       "mean          0.023667                  1.535489                 36.632560  \n",
       "std           0.106960                 18.199186                147.288485  \n",
       "min           0.000000                  0.000000                  3.000000  \n",
       "25%           0.000000                  0.000000                  4.000000  \n",
       "50%           0.000000                  0.000000                  6.000000  \n",
       "75%           0.000000                  0.000000                 58.000000  \n",
       "max           1.000000               1838.000000               4936.000000  \n",
       "\n",
       "[8 rows x 42 columns]"
      ]
     },
     "execution_count": 10,
     "metadata": {},
     "output_type": "execute_result"
    }
   ],
   "source": [
    "df.describe()"
   ]
  },
  {
   "cell_type": "code",
   "execution_count": 11,
   "id": "112686b6-0971-4d25-a25f-03a64a996719",
   "metadata": {},
   "outputs": [
    {
     "data": {
      "text/html": [
       "<div>\n",
       "<style scoped>\n",
       "    .dataframe tbody tr th:only-of-type {\n",
       "        vertical-align: middle;\n",
       "    }\n",
       "\n",
       "    .dataframe tbody tr th {\n",
       "        vertical-align: top;\n",
       "    }\n",
       "\n",
       "    .dataframe thead th {\n",
       "        text-align: right;\n",
       "    }\n",
       "</style>\n",
       "<table border=\"1\" class=\"dataframe\">\n",
       "  <thead>\n",
       "    <tr style=\"text-align: right;\">\n",
       "      <th></th>\n",
       "      <th>Missing Count</th>\n",
       "      <th>Missing Percentage</th>\n",
       "    </tr>\n",
       "  </thead>\n",
       "  <tbody>\n",
       "    <tr>\n",
       "      <th>asian</th>\n",
       "      <td>69215</td>\n",
       "      <td>76.14</td>\n",
       "    </tr>\n",
       "    <tr>\n",
       "      <th>atheist</th>\n",
       "      <td>69215</td>\n",
       "      <td>76.14</td>\n",
       "    </tr>\n",
       "    <tr>\n",
       "      <th>bisexual</th>\n",
       "      <td>69215</td>\n",
       "      <td>76.14</td>\n",
       "    </tr>\n",
       "    <tr>\n",
       "      <th>black</th>\n",
       "      <td>69215</td>\n",
       "      <td>76.14</td>\n",
       "    </tr>\n",
       "    <tr>\n",
       "      <th>buddhist</th>\n",
       "      <td>69215</td>\n",
       "      <td>76.14</td>\n",
       "    </tr>\n",
       "    <tr>\n",
       "      <th>christian</th>\n",
       "      <td>69215</td>\n",
       "      <td>76.14</td>\n",
       "    </tr>\n",
       "    <tr>\n",
       "      <th>female</th>\n",
       "      <td>69215</td>\n",
       "      <td>76.14</td>\n",
       "    </tr>\n",
       "    <tr>\n",
       "      <th>heterosexual</th>\n",
       "      <td>69215</td>\n",
       "      <td>76.14</td>\n",
       "    </tr>\n",
       "    <tr>\n",
       "      <th>hindu</th>\n",
       "      <td>69215</td>\n",
       "      <td>76.14</td>\n",
       "    </tr>\n",
       "    <tr>\n",
       "      <th>homosexual_gay_or_lesbian</th>\n",
       "      <td>69215</td>\n",
       "      <td>76.14</td>\n",
       "    </tr>\n",
       "    <tr>\n",
       "      <th>intellectual_or_learning_disability</th>\n",
       "      <td>69215</td>\n",
       "      <td>76.14</td>\n",
       "    </tr>\n",
       "    <tr>\n",
       "      <th>jewish</th>\n",
       "      <td>69215</td>\n",
       "      <td>76.14</td>\n",
       "    </tr>\n",
       "    <tr>\n",
       "      <th>latino</th>\n",
       "      <td>69215</td>\n",
       "      <td>76.14</td>\n",
       "    </tr>\n",
       "    <tr>\n",
       "      <th>male</th>\n",
       "      <td>69215</td>\n",
       "      <td>76.14</td>\n",
       "    </tr>\n",
       "    <tr>\n",
       "      <th>muslim</th>\n",
       "      <td>69215</td>\n",
       "      <td>76.14</td>\n",
       "    </tr>\n",
       "    <tr>\n",
       "      <th>other_disability</th>\n",
       "      <td>69215</td>\n",
       "      <td>76.14</td>\n",
       "    </tr>\n",
       "    <tr>\n",
       "      <th>other_gender</th>\n",
       "      <td>69215</td>\n",
       "      <td>76.14</td>\n",
       "    </tr>\n",
       "    <tr>\n",
       "      <th>other_race_or_ethnicity</th>\n",
       "      <td>69215</td>\n",
       "      <td>76.14</td>\n",
       "    </tr>\n",
       "    <tr>\n",
       "      <th>other_religion</th>\n",
       "      <td>69215</td>\n",
       "      <td>76.14</td>\n",
       "    </tr>\n",
       "    <tr>\n",
       "      <th>other_sexual_orientation</th>\n",
       "      <td>69215</td>\n",
       "      <td>76.14</td>\n",
       "    </tr>\n",
       "    <tr>\n",
       "      <th>physical_disability</th>\n",
       "      <td>69215</td>\n",
       "      <td>76.14</td>\n",
       "    </tr>\n",
       "    <tr>\n",
       "      <th>psychiatric_or_mental_illness</th>\n",
       "      <td>69215</td>\n",
       "      <td>76.14</td>\n",
       "    </tr>\n",
       "    <tr>\n",
       "      <th>transgender</th>\n",
       "      <td>69215</td>\n",
       "      <td>76.14</td>\n",
       "    </tr>\n",
       "    <tr>\n",
       "      <th>white</th>\n",
       "      <td>69215</td>\n",
       "      <td>76.14</td>\n",
       "    </tr>\n",
       "    <tr>\n",
       "      <th>parent_id</th>\n",
       "      <td>41072</td>\n",
       "      <td>45.18</td>\n",
       "    </tr>\n",
       "  </tbody>\n",
       "</table>\n",
       "</div>"
      ],
      "text/plain": [
       "                                     Missing Count  Missing Percentage\n",
       "asian                                        69215               76.14\n",
       "atheist                                      69215               76.14\n",
       "bisexual                                     69215               76.14\n",
       "black                                        69215               76.14\n",
       "buddhist                                     69215               76.14\n",
       "christian                                    69215               76.14\n",
       "female                                       69215               76.14\n",
       "heterosexual                                 69215               76.14\n",
       "hindu                                        69215               76.14\n",
       "homosexual_gay_or_lesbian                    69215               76.14\n",
       "intellectual_or_learning_disability          69215               76.14\n",
       "jewish                                       69215               76.14\n",
       "latino                                       69215               76.14\n",
       "male                                         69215               76.14\n",
       "muslim                                       69215               76.14\n",
       "other_disability                             69215               76.14\n",
       "other_gender                                 69215               76.14\n",
       "other_race_or_ethnicity                      69215               76.14\n",
       "other_religion                               69215               76.14\n",
       "other_sexual_orientation                     69215               76.14\n",
       "physical_disability                          69215               76.14\n",
       "psychiatric_or_mental_illness                69215               76.14\n",
       "transgender                                  69215               76.14\n",
       "white                                        69215               76.14\n",
       "parent_id                                    41072               45.18"
      ]
     },
     "execution_count": 11,
     "metadata": {},
     "output_type": "execute_result"
    }
   ],
   "source": [
    "def get_missing_stat(df): \n",
    "    missing_count = df.isna().sum()\n",
    "    missing_percentage = (missing_count / len(df)) * 100\n",
    "    missing_data = pd.DataFrame({\n",
    "        'Missing Count': missing_count,\n",
    "        'Missing Percentage': round(missing_percentage, 2)\n",
    "    })\n",
    "    return missing_data[missing_data['Missing Count'] > 0]\n",
    "\n",
    "get_missing_stat(df)"
   ]
  },
  {
   "cell_type": "markdown",
   "id": "072b0a70-d444-4fe7-9520-b7b49f4cba2c",
   "metadata": {},
   "source": [
    "Данные по признакам ориентации и религии сильно разряженны."
   ]
  },
  {
   "cell_type": "code",
   "execution_count": 13,
   "id": "525a47a0-0929-4ef0-bae0-7d0a524bf493",
   "metadata": {},
   "outputs": [
    {
     "data": {
      "text/plain": [
       "2436"
      ]
     },
     "execution_count": 13,
     "metadata": {},
     "output_type": "execute_result"
    }
   ],
   "source": [
    "df[df['christian'] > 0].shape[0]"
   ]
  },
  {
   "cell_type": "code",
   "execution_count": 14,
   "id": "e318c4a0-a030-43e7-aae6-ea9e6e980903",
   "metadata": {},
   "outputs": [
    {
     "data": {
      "text/plain": [
       "1680"
      ]
     },
     "execution_count": 14,
     "metadata": {},
     "output_type": "execute_result"
    }
   ],
   "source": [
    "df[df['muslim'] > 0].shape[0]"
   ]
  },
  {
   "cell_type": "code",
   "execution_count": 15,
   "id": "54c3f188-3dea-4786-b736-7efb47534760",
   "metadata": {},
   "outputs": [
    {
     "data": {
      "text/plain": [
       "57"
      ]
     },
     "execution_count": 15,
     "metadata": {},
     "output_type": "execute_result"
    }
   ],
   "source": [
    "df[df['buddhist'] > 0].shape[0]"
   ]
  },
  {
   "cell_type": "markdown",
   "id": "819f652f-20f8-429b-a475-d3543b793302",
   "metadata": {},
   "source": [
    "Присутствует дизбаланс классов в выборке по религии."
   ]
  },
  {
   "cell_type": "markdown",
   "id": "dedae429-caa1-40b6-ac57-a6d720f94ac3",
   "metadata": {},
   "source": [
    "# Построение baseline модели"
   ]
  },
  {
   "cell_type": "markdown",
   "id": "43fd2a14-fbd6-4c2d-911d-22e6aef83fdb",
   "metadata": {},
   "source": [
    "Cделаем предпосылку, что комментарий считается токсичным, если вероятность выше 0.7"
   ]
  },
  {
   "cell_type": "code",
   "execution_count": 19,
   "id": "776b9fc6-99c0-42d2-bfab-164da9f48553",
   "metadata": {},
   "outputs": [],
   "source": [
    "np.random.seed(0)\n",
    "comments = df[\"comment_text\"]\n",
    "target = (df[\"target\"] > 0.7).astype(int)"
   ]
  },
  {
   "cell_type": "code",
   "execution_count": 20,
   "id": "e2a430f5-a00c-4596-b64c-db0db3aab789",
   "metadata": {},
   "outputs": [],
   "source": [
    "X_train, X_test, y_train, y_test = train_test_split(\n",
    "    comments,\n",
    "    target,\n",
    "    test_size=0.3,\n",
    "    random_state=0\n",
    ")"
   ]
  },
  {
   "cell_type": "markdown",
   "id": "372cd099-4715-44cd-97b7-82780725b90f",
   "metadata": {},
   "source": [
    "Преобразуем текст комментариев в числовой формат"
   ]
  },
  {
   "cell_type": "code",
   "execution_count": 22,
   "id": "0572ad3a-688f-439e-a9d9-51dbd934a96c",
   "metadata": {},
   "outputs": [],
   "source": [
    "vectorizer = CountVectorizer()\n",
    "\n",
    "X_train_vectorized = vectorizer.fit_transform(X_train)\n",
    "X_test_vectorized = vectorizer.transform(X_test)"
   ]
  },
  {
   "cell_type": "markdown",
   "id": "42e87d4f-cb2c-470f-91a5-59f17c88a5ad",
   "metadata": {},
   "source": [
    "Будем классифицировать комментарии на токсичные и нетоксичные с помощью логистической регрессии. Для оценки модели возьмем метрику accuracy и посчитаем ее."
   ]
  },
  {
   "cell_type": "code",
   "execution_count": 24,
   "id": "ae404429-032d-4e27-8551-bf9f83411060",
   "metadata": {},
   "outputs": [],
   "source": [
    "model = LogisticRegression(max_iter=2000)\n",
    "model.fit(X_train_vectorized, y_train);"
   ]
  },
  {
   "cell_type": "code",
   "execution_count": 25,
   "id": "9414f7e0-6855-4d0b-9d7f-9bd19e92836f",
   "metadata": {},
   "outputs": [
    {
     "name": "stdout",
     "output_type": "stream",
     "text": [
      "Точность модели: 0.929\n"
     ]
    }
   ],
   "source": [
    "y_pred = model.predict(X_test_vectorized)\n",
    "accuracy = accuracy_score(y_test, y_pred)\n",
    "print(f\"Точность модели: {round(accuracy, 3)}\")"
   ]
  },
  {
   "cell_type": "markdown",
   "id": "31ba8f88-c9cc-4473-a516-6af01e19b8d0",
   "metadata": {},
   "source": [
    "## Протестируем работу модели на примере нескольких комментариев"
   ]
  },
  {
   "cell_type": "code",
   "execution_count": 27,
   "id": "dadcb903-1f8f-4b16-b3a2-7cf176ca4aa9",
   "metadata": {},
   "outputs": [],
   "source": [
    "def predict_toxicity(comment):\n",
    "    comment_vector = vectorizer.transform([comment])    \n",
    "    probability = model.predict_proba(comment_vector)[0, 1]\n",
    "    \n",
    "    return round(probability, 3)"
   ]
  },
  {
   "cell_type": "code",
   "execution_count": 28,
   "id": "3e1f4edc-511e-42a9-a4c1-166311f8e93e",
   "metadata": {},
   "outputs": [
    {
     "name": "stdout",
     "output_type": "stream",
     "text": [
      "Вероятность токсичности комментария \"Apples are stupid\": 1.00\n"
     ]
    }
   ],
   "source": [
    "comment = \"Apples are stupid\"\n",
    "toxicity_probability = predict_toxicity(comment)\n",
    "print(f'Вероятность токсичности комментария \"{comment}\": {toxicity_probability:.2f}')"
   ]
  },
  {
   "cell_type": "code",
   "execution_count": 29,
   "id": "7953341e-b110-4bd5-94d2-8d0ee60cc570",
   "metadata": {},
   "outputs": [
    {
     "name": "stdout",
     "output_type": "stream",
     "text": [
      "Вероятность токсичности комментария \"I love apples\": 0.10\n"
     ]
    }
   ],
   "source": [
    "comment = \"I love apples\"\n",
    "toxicity_probability = predict_toxicity(comment)\n",
    "print(f'Вероятность токсичности комментария \"{comment}\": {toxicity_probability:.2f}')"
   ]
  },
  {
   "cell_type": "markdown",
   "id": "c827ca2d-9a9c-4d82-850e-308ee1b2d187",
   "metadata": {},
   "source": [
    "## Выведем наиболее токсичные слова"
   ]
  },
  {
   "cell_type": "code",
   "execution_count": 31,
   "id": "a55ac29e-bc9d-4f75-821d-689181a84c5b",
   "metadata": {},
   "outputs": [],
   "source": [
    "feature_names = vectorizer.get_feature_names_out()\n",
    "coefficients = model.coef_[0]"
   ]
  },
  {
   "cell_type": "code",
   "execution_count": 32,
   "id": "b786c9bc-eecb-4054-ac75-5aeffaab8840",
   "metadata": {},
   "outputs": [],
   "source": [
    "word_coefficient_pairs = list(zip(feature_names, coefficients))\n",
    "word_coefficient_pairs.sort(key=lambda x: abs(x[1]), reverse=True)"
   ]
  },
  {
   "cell_type": "code",
   "execution_count": 33,
   "id": "a0c63458-d6f0-4734-8de5-5f5e804493e0",
   "metadata": {},
   "outputs": [
    {
     "name": "stdout",
     "output_type": "stream",
     "text": [
      "Наиболее значимые слова и их коэффициенты:\n",
      "stupid: 9.5244\n",
      "idiot: 8.6641\n",
      "idiots: 8.6258\n",
      "stupidity: 7.5645\n",
      "idiotic: 6.8268\n",
      "crap: 6.5549\n",
      "dumb: 6.5321\n",
      "pathetic: 6.4545\n",
      "morons: 6.3688\n",
      "moron: 6.3512\n"
     ]
    }
   ],
   "source": [
    "print(\"Наиболее значимые слова и их коэффициенты:\")\n",
    "for word, coef in word_coefficient_pairs[:10]:\n",
    "    print(f\"{word}: {coef:.4f}\")"
   ]
  },
  {
   "cell_type": "markdown",
   "id": "f4804cf4-4ff8-4631-a078-fca9ecaaa2aa",
   "metadata": {},
   "source": [
    "Похоже что эти слова используются в оскорблениях. Удивляет что idiot имеет более высокий коэффициент, чем, например, pathetic. Вероятно, оно встречается чаще и поэтому модель лучше обучилось на нём."
   ]
  },
  {
   "cell_type": "markdown",
   "id": "1b759dfe-146d-40d8-8a2e-ee48f32d8ec9",
   "metadata": {},
   "source": [
    "## Протестируем модель на ее предвзятость к религии"
   ]
  },
  {
   "cell_type": "code",
   "execution_count": 36,
   "id": "68266b7b-9a14-465c-8f63-045f4c6e0d95",
   "metadata": {},
   "outputs": [
    {
     "name": "stdout",
     "output_type": "stream",
     "text": [
      "Вероятность токсичности комментария \"I have a christian friend\": 0.12\n",
      "Вероятность токсичности комментария \"I have a muslim friend\": 0.45\n",
      "Вероятность токсичности комментария \"I have a white friend\": 0.33\n",
      "Вероятность токсичности комментария \"I have a black friend\": 0.52\n"
     ]
    }
   ],
   "source": [
    "comments = [\n",
    "    \"I have a christian friend\",\n",
    "    \"I have a muslim friend\",\n",
    "    \"I have a white friend\",\n",
    "    \"I have a black friend\",\n",
    "]\n",
    "for comment in comments:\n",
    "    toxicity_probability = predict_toxicity(comment)\n",
    "    print(f'Вероятность токсичности комментария \"{comment}\": {toxicity_probability:.2f}')"
   ]
  },
  {
   "cell_type": "markdown",
   "id": "f1ab7a64-64f9-4690-8d5f-8d5d241c8fdd",
   "metadata": {},
   "source": [
    "У модели явно есть смещение(bias) относительно мусульман и афроамериканцев. В иделе мы должны были получить одинаково нетоксичную вероятность для христиан и мусульман, для белых и черных."
   ]
  },
  {
   "cell_type": "markdown",
   "id": "cca5ba66-7eee-4459-839c-dff0667c0c3b",
   "metadata": {},
   "source": [
    "Модель проявляет исламофобию, это может указывать на нарушение демографического паритета, так как модель может давать больше положительных предсказаний (т.е. классифицировать как токсичные) для комментариев, связанных с исламом, чем для других религий. То есть истинно положительный показатель для мусульманских комментариев может быть завышен), а для других религий - занижен."
   ]
  },
  {
   "cell_type": "markdown",
   "id": "0723cfa5-35e7-48f0-ad81-8e6ce9d784f8",
   "metadata": {},
   "source": [
    "# Улучшение алгорима с точки зрения этики"
   ]
  },
  {
   "cell_type": "markdown",
   "id": "7c829944-8297-4ac3-b055-cdad320c29e1",
   "metadata": {},
   "source": [
    "Можно попытаться использовать дополнительные признаки(\"atheist\", \"buddhist\", \"christian\", \"hindu\", \"jewish\", \"latino\", \"muslim\", \"other_religion\") чтобы попытаться уменьшить предвзятость модели. Это может помочь модели учитывать контекст, связанный с исламом, и уменьшить предвзятость.\n",
    "Я попробовал и вот какой результат получился:  \n",
    "**точность модели упала** 0.929 -> 0.928, а **модель стала еще менее этичной**:  \n",
    "Вероятность токсичности комментария \"I have a christian friend\": 0.12 -> 0.21  \n",
    "Вероятность токсичности комментария \"I have a muslim friend\": 0.45 -> 0.71  \n",
    "Вероятность токсичности комментария \"I have a white friend\": 0.33 -> 0.39  \n",
    "Вероятность токсичности комментария \"I have a black friend\": 0.52 -> 0.59  \n",
    "\n",
    "Тогда можно попробовать использовать регуляризацию, чтобы уменьшить влияние отдельных признаков. И вот это уже принесло плоды\n",
    "**точность модели упала** 0.929 -> 0.919, а **но модель стала более этичная**:  \n",
    "Вероятность токсичности комментария \"I have a christian friend\": 0.12 -> 0.24  \n",
    "Вероятность токсичности комментария \"I have a muslim friend\": 0.45 -> 0.43  \n",
    "Вероятность токсичности комментария \"I have a white friend\": 0.33 -> 0.40  \n",
    "Вероятность токсичности комментария \"I have a black friend\": 0.52 -> 0.49  "
   ]
  },
  {
   "cell_type": "markdown",
   "id": "e0324aa7-37f5-4aa7-b507-16f83e4ccfd3",
   "metadata": {},
   "source": [
    "## Эксперемент с использованием признаков религии"
   ]
  },
  {
   "cell_type": "code",
   "execution_count": 42,
   "id": "1d534c0a-e6b2-41e5-be5a-b2019048ecaf",
   "metadata": {},
   "outputs": [
    {
     "name": "stdout",
     "output_type": "stream",
     "text": [
      "Точность модели: 0.928\n"
     ]
    }
   ],
   "source": [
    "documents = df[\"comment_text\"]\n",
    "labels = (df[\"target\"] > 0.7).astype(int)\n",
    "columns_to_fill = [\n",
    "    \"atheist\",\n",
    "    \"buddhist\",\n",
    "    \"christian\",\n",
    "    \"hindu\",\n",
    "    \"jewish\",\n",
    "    \"latino\",\n",
    "    \"muslim\",\n",
    "    \"other_religion\"\n",
    "]\n",
    "df[columns_to_fill] = df[columns_to_fill].fillna(0)\n",
    "religion_features = df[columns_to_fill].to_numpy()\n",
    "\n",
    "\n",
    "vectorizer = CountVectorizer()\n",
    "X_text = vectorizer.fit_transform(documents)\n",
    "X = hstack([X_text, religion_features])\n",
    "X_train, X_test, y_train, y_test = train_test_split(X, labels, test_size=0.3, random_state=42)\n",
    "\n",
    "model = LogisticRegression(max_iter=2000)\n",
    "model.fit(X_train, y_train)\n",
    "\n",
    "y_pred = model.predict(X_test)\n",
    "\n",
    "accuracy = accuracy_score(y_test, y_pred)\n",
    "print(f\"Точность модели: {round(accuracy, 3)}\")"
   ]
  },
  {
   "cell_type": "code",
   "execution_count": 43,
   "id": "6ca273e0-35ce-42b8-a6cf-fe462b13704c",
   "metadata": {},
   "outputs": [
    {
     "name": "stdout",
     "output_type": "stream",
     "text": [
      "Вероятность токсичности комментария: \"I have a christian friend\": 0.21\n",
      "Вероятность токсичности комментария: \"I have a muslim friend\": 0.71\n",
      "Вероятность токсичности комментария: \"I have a white friend\": 0.39\n",
      "Вероятность токсичности комментария: \"I have a black friend\": 0.59\n"
     ]
    }
   ],
   "source": [
    "comments = [\n",
    "    \"I have a christian friend\",\n",
    "    \"I have a muslim friend\",\n",
    "    \"I have a white friend\",\n",
    "    \"I have a black friend\",\n",
    "]\n",
    "X_new_text = vectorizer.transform(comments)\n",
    "\n",
    "new_atheist_religion_feature = np.array([0.0, 0.0, 0.0, 0.0]).reshape(-1, 1)\n",
    "new_buddhist_religion_feature = np.array([0.0, 0.0, 0.0, 0.0]).reshape(-1, 1)\n",
    "new_christian_religion_feature = np.array([1.0, 0.0, 0.0, 0.0]).reshape(-1, 1)\n",
    "new_hindu_religion_feature = np.array([0.0, 0.0, 0.0, 0.0]).reshape(-1, 1)\n",
    "new_jewish_religion_feature = np.array([0.0, 0.0, 0.0, 0.0]).reshape(-1, 1)\n",
    "new_latino_religion_feature = np.array([0.0, 0.0, 0.0, 0.0]).reshape(-1, 1)\n",
    "new_muslim_feature = np.array([0.0, 1.0, 0.0, 0.0]).reshape(-1, 1)\n",
    "new_other_religion_feature = np.array([0.0, 0.0, 0.0, 0.0]).reshape(-1, 1)\n",
    "\n",
    "X_new = hstack([\n",
    "    X_new_text,\n",
    "    new_atheist_religion_feature,\n",
    "    new_buddhist_religion_feature,\n",
    "    new_christian_religion_feature,\n",
    "    new_hindu_religion_feature,\n",
    "    new_jewish_religion_feature,\n",
    "    new_latino_religion_feature,\n",
    "    new_muslim_feature,\n",
    "    new_other_religion_feature,\n",
    "])\n",
    "predictions = model.predict(X_new)\n",
    "probabilities = model.predict_proba(X_new)[:, 1]\n",
    "\n",
    "for comment, prediction, probability in zip(comments, predictions, probabilities):\n",
    "    print(f'Вероятность токсичности комментария: \"{comment}\": {probability:.2f}')"
   ]
  },
  {
   "cell_type": "markdown",
   "id": "722a5f78-f6dd-4d1f-8ac9-86dd3b825bea",
   "metadata": {},
   "source": [
    "## Эксперемент с регулязацией"
   ]
  },
  {
   "cell_type": "code",
   "execution_count": 45,
   "id": "4d6a23ac-8b8d-4aa7-accf-c1c16d4c44a9",
   "metadata": {},
   "outputs": [],
   "source": [
    "comments = df[\"comment_text\"]\n",
    "y = (df[\"target\"] > 0.7).astype(int)\n",
    "\n",
    "vectorizer = CountVectorizer()\n",
    "X = vectorizer.fit_transform(comments)\n",
    "\n",
    "X_train, X_test, y_train, y_test = train_test_split(\n",
    "    X,\n",
    "    y,\n",
    "    test_size=0.3,\n",
    "    random_state=0\n",
    ")"
   ]
  },
  {
   "cell_type": "code",
   "execution_count": 46,
   "id": "7e458e43-ac32-4d9b-89d8-0824798a0287",
   "metadata": {},
   "outputs": [],
   "source": [
    "model = LogisticRegression(max_iter=2000, C=0.1, penalty='l2')\n",
    "model.fit(X_train, y_train);"
   ]
  },
  {
   "cell_type": "code",
   "execution_count": 47,
   "id": "9ae82a3e-91b1-42d7-a07e-aa1750e0e5b7",
   "metadata": {},
   "outputs": [
    {
     "name": "stdout",
     "output_type": "stream",
     "text": [
      "Точность модели: 0.919\n"
     ]
    }
   ],
   "source": [
    "y_pred = model.predict(X_test)\n",
    "accuracy = accuracy_score(y_test, y_pred)\n",
    "print(f\"Точность модели: {round(accuracy, 3)}\")"
   ]
  },
  {
   "cell_type": "code",
   "execution_count": 48,
   "id": "941235b1-3638-448b-9036-30ef7d4ed7b4",
   "metadata": {},
   "outputs": [
    {
     "name": "stdout",
     "output_type": "stream",
     "text": [
      "Вероятность токсичности комментария \"I have a christian friend\": 0.24\n",
      "Вероятность токсичности комментария \"I have a muslim friend\": 0.43\n",
      "Вероятность токсичности комментария \"I have a white friend\": 0.40\n",
      "Вероятность токсичности комментария \"I have a black friend\": 0.49\n"
     ]
    }
   ],
   "source": [
    "comments = [\n",
    "    \"I have a christian friend\",\n",
    "    \"I have a muslim friend\",\n",
    "    \"I have a white friend\",\n",
    "    \"I have a black friend\",\n",
    "]\n",
    "for comment in comments:\n",
    "    toxicity_probability = predict_toxicity(comment)\n",
    "    print(f'Вероятность токсичности комментария \"{comment}\": {toxicity_probability:.2f}')"
   ]
  }
 ],
 "metadata": {
  "kernelspec": {
   "display_name": "Python 3 (ipykernel)",
   "language": "python",
   "name": "python3"
  },
  "language_info": {
   "codemirror_mode": {
    "name": "ipython",
    "version": 3
   },
   "file_extension": ".py",
   "mimetype": "text/x-python",
   "name": "python",
   "nbconvert_exporter": "python",
   "pygments_lexer": "ipython3",
   "version": "3.12.4"
  }
 },
 "nbformat": 4,
 "nbformat_minor": 5
}
