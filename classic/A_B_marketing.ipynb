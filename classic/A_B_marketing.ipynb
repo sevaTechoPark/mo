{
 "cells": [
  {
   "cell_type": "markdown",
   "id": "cb7405eb-a7a2-4bf7-bc48-9be784fe4fa0",
   "metadata": {},
   "source": [
    "Постановка задачи: проверить будет ли компания успешной в случае проведение рекламы. Для анализа представлена выборка из двух групп. Группа 'ad' - человек видел рекламу, группа 'psa' он видел только объявление государственной службы."
   ]
  },
  {
   "cell_type": "markdown",
   "id": "126fdafc-0e3b-4587-af5c-3fba4de22e7e",
   "metadata": {},
   "source": [
    "# Установка и импорт библиотек"
   ]
  },
  {
   "cell_type": "code",
   "execution_count": 3,
   "id": "095ef701-d3e4-42c6-8bb2-cee4a8269c9b",
   "metadata": {},
   "outputs": [],
   "source": [
    "!pip install numpy pandas seaborn matplotlib --quiet\n",
    "!pip install scipy statsmodels --quiet"
   ]
  },
  {
   "cell_type": "code",
   "execution_count": 4,
   "id": "beb77694-8ad6-451a-8e80-1bae510d80be",
   "metadata": {},
   "outputs": [],
   "source": [
    "import math\n",
    "import pandas as pd\n",
    "import numpy as np\n",
    "import seaborn as sns\n",
    "import matplotlib.pyplot as plt\n",
    "from sklearn.pipeline import Pipeline\n",
    "from sklearn.base import BaseEstimator, TransformerMixin\n",
    "from scipy.stats import shapiro, norm\n",
    "from statsmodels.stats.proportion import proportions_ztest, proportion_confint\n",
    "\n",
    "import warnings\n",
    "warnings.filterwarnings(\"ignore\")"
   ]
  },
  {
   "cell_type": "markdown",
   "id": "6f83cd6a-d01e-4f31-8975-855be8117821",
   "metadata": {},
   "source": [
    "# Считывание данных"
   ]
  },
  {
   "cell_type": "code",
   "execution_count": 6,
   "id": "0f1cbf56-7701-4538-b294-f88b9732ec4b",
   "metadata": {},
   "outputs": [],
   "source": [
    "original_data = pd.read_csv(\"../data/A_B_marketing/marketing_AB.csv\")"
   ]
  },
  {
   "cell_type": "code",
   "execution_count": 7,
   "id": "6fe4d334-bee7-4b3a-8650-dc6e3a1ad014",
   "metadata": {},
   "outputs": [
    {
     "data": {
      "text/plain": [
       "(588101, 7)"
      ]
     },
     "execution_count": 7,
     "metadata": {},
     "output_type": "execute_result"
    }
   ],
   "source": [
    "original_data.shape"
   ]
  },
  {
   "cell_type": "markdown",
   "id": "53e97afa-6de8-4b0c-820e-9aefc203a4f5",
   "metadata": {},
   "source": [
    "# Исследование и обработка данных"
   ]
  },
  {
   "cell_type": "markdown",
   "id": "33089765-c9a1-4b87-a769-05e7a1a66cbf",
   "metadata": {},
   "source": [
    "## Первичный обзор"
   ]
  },
  {
   "cell_type": "code",
   "execution_count": 10,
   "id": "ddb39a41-57a4-439f-8e89-5cf9a290107f",
   "metadata": {},
   "outputs": [
    {
     "data": {
      "text/html": [
       "<div>\n",
       "<style scoped>\n",
       "    .dataframe tbody tr th:only-of-type {\n",
       "        vertical-align: middle;\n",
       "    }\n",
       "\n",
       "    .dataframe tbody tr th {\n",
       "        vertical-align: top;\n",
       "    }\n",
       "\n",
       "    .dataframe thead th {\n",
       "        text-align: right;\n",
       "    }\n",
       "</style>\n",
       "<table border=\"1\" class=\"dataframe\">\n",
       "  <thead>\n",
       "    <tr style=\"text-align: right;\">\n",
       "      <th></th>\n",
       "      <th>Unnamed: 0</th>\n",
       "      <th>user id</th>\n",
       "      <th>test group</th>\n",
       "      <th>converted</th>\n",
       "      <th>total ads</th>\n",
       "      <th>most ads day</th>\n",
       "      <th>most ads hour</th>\n",
       "    </tr>\n",
       "  </thead>\n",
       "  <tbody>\n",
       "    <tr>\n",
       "      <th>0</th>\n",
       "      <td>0</td>\n",
       "      <td>1069124</td>\n",
       "      <td>ad</td>\n",
       "      <td>False</td>\n",
       "      <td>130</td>\n",
       "      <td>Monday</td>\n",
       "      <td>20</td>\n",
       "    </tr>\n",
       "    <tr>\n",
       "      <th>1</th>\n",
       "      <td>1</td>\n",
       "      <td>1119715</td>\n",
       "      <td>ad</td>\n",
       "      <td>False</td>\n",
       "      <td>93</td>\n",
       "      <td>Tuesday</td>\n",
       "      <td>22</td>\n",
       "    </tr>\n",
       "    <tr>\n",
       "      <th>2</th>\n",
       "      <td>2</td>\n",
       "      <td>1144181</td>\n",
       "      <td>ad</td>\n",
       "      <td>False</td>\n",
       "      <td>21</td>\n",
       "      <td>Tuesday</td>\n",
       "      <td>18</td>\n",
       "    </tr>\n",
       "    <tr>\n",
       "      <th>3</th>\n",
       "      <td>3</td>\n",
       "      <td>1435133</td>\n",
       "      <td>ad</td>\n",
       "      <td>False</td>\n",
       "      <td>355</td>\n",
       "      <td>Tuesday</td>\n",
       "      <td>10</td>\n",
       "    </tr>\n",
       "    <tr>\n",
       "      <th>4</th>\n",
       "      <td>4</td>\n",
       "      <td>1015700</td>\n",
       "      <td>ad</td>\n",
       "      <td>False</td>\n",
       "      <td>276</td>\n",
       "      <td>Friday</td>\n",
       "      <td>14</td>\n",
       "    </tr>\n",
       "  </tbody>\n",
       "</table>\n",
       "</div>"
      ],
      "text/plain": [
       "   Unnamed: 0  user id test group  converted  total ads most ads day  \\\n",
       "0           0  1069124         ad      False        130       Monday   \n",
       "1           1  1119715         ad      False         93      Tuesday   \n",
       "2           2  1144181         ad      False         21      Tuesday   \n",
       "3           3  1435133         ad      False        355      Tuesday   \n",
       "4           4  1015700         ad      False        276       Friday   \n",
       "\n",
       "   most ads hour  \n",
       "0             20  \n",
       "1             22  \n",
       "2             18  \n",
       "3             10  \n",
       "4             14  "
      ]
     },
     "execution_count": 10,
     "metadata": {},
     "output_type": "execute_result"
    }
   ],
   "source": [
    "original_data.head()"
   ]
  },
  {
   "cell_type": "code",
   "execution_count": 11,
   "id": "dd7a4659-6f27-481b-bc86-d0aa61a05f42",
   "metadata": {},
   "outputs": [
    {
     "name": "stdout",
     "output_type": "stream",
     "text": [
      "<class 'pandas.core.frame.DataFrame'>\n",
      "RangeIndex: 588101 entries, 0 to 588100\n",
      "Data columns (total 7 columns):\n",
      " #   Column         Non-Null Count   Dtype \n",
      "---  ------         --------------   ----- \n",
      " 0   Unnamed: 0     588101 non-null  int64 \n",
      " 1   user id        588101 non-null  int64 \n",
      " 2   test group     588101 non-null  object\n",
      " 3   converted      588101 non-null  bool  \n",
      " 4   total ads      588101 non-null  int64 \n",
      " 5   most ads day   588101 non-null  object\n",
      " 6   most ads hour  588101 non-null  int64 \n",
      "dtypes: bool(1), int64(4), object(2)\n",
      "memory usage: 27.5+ MB\n"
     ]
    }
   ],
   "source": [
    "original_data.info()"
   ]
  },
  {
   "cell_type": "code",
   "execution_count": 12,
   "id": "92e74560-1aba-4caa-b4c6-569c3b4d54d3",
   "metadata": {},
   "outputs": [
    {
     "data": {
      "text/html": [
       "<div>\n",
       "<style scoped>\n",
       "    .dataframe tbody tr th:only-of-type {\n",
       "        vertical-align: middle;\n",
       "    }\n",
       "\n",
       "    .dataframe tbody tr th {\n",
       "        vertical-align: top;\n",
       "    }\n",
       "\n",
       "    .dataframe thead th {\n",
       "        text-align: right;\n",
       "    }\n",
       "</style>\n",
       "<table border=\"1\" class=\"dataframe\">\n",
       "  <thead>\n",
       "    <tr style=\"text-align: right;\">\n",
       "      <th></th>\n",
       "      <th>Unnamed: 0</th>\n",
       "      <th>user id</th>\n",
       "      <th>total ads</th>\n",
       "      <th>most ads hour</th>\n",
       "    </tr>\n",
       "  </thead>\n",
       "  <tbody>\n",
       "    <tr>\n",
       "      <th>count</th>\n",
       "      <td>588101.000000</td>\n",
       "      <td>5.881010e+05</td>\n",
       "      <td>588101.000000</td>\n",
       "      <td>588101.000000</td>\n",
       "    </tr>\n",
       "    <tr>\n",
       "      <th>mean</th>\n",
       "      <td>294050.000000</td>\n",
       "      <td>1.310692e+06</td>\n",
       "      <td>24.820876</td>\n",
       "      <td>14.469061</td>\n",
       "    </tr>\n",
       "    <tr>\n",
       "      <th>std</th>\n",
       "      <td>169770.279667</td>\n",
       "      <td>2.022260e+05</td>\n",
       "      <td>43.715181</td>\n",
       "      <td>4.834634</td>\n",
       "    </tr>\n",
       "    <tr>\n",
       "      <th>min</th>\n",
       "      <td>0.000000</td>\n",
       "      <td>9.000000e+05</td>\n",
       "      <td>1.000000</td>\n",
       "      <td>0.000000</td>\n",
       "    </tr>\n",
       "    <tr>\n",
       "      <th>25%</th>\n",
       "      <td>147025.000000</td>\n",
       "      <td>1.143190e+06</td>\n",
       "      <td>4.000000</td>\n",
       "      <td>11.000000</td>\n",
       "    </tr>\n",
       "    <tr>\n",
       "      <th>50%</th>\n",
       "      <td>294050.000000</td>\n",
       "      <td>1.313725e+06</td>\n",
       "      <td>13.000000</td>\n",
       "      <td>14.000000</td>\n",
       "    </tr>\n",
       "    <tr>\n",
       "      <th>75%</th>\n",
       "      <td>441075.000000</td>\n",
       "      <td>1.484088e+06</td>\n",
       "      <td>27.000000</td>\n",
       "      <td>18.000000</td>\n",
       "    </tr>\n",
       "    <tr>\n",
       "      <th>max</th>\n",
       "      <td>588100.000000</td>\n",
       "      <td>1.654483e+06</td>\n",
       "      <td>2065.000000</td>\n",
       "      <td>23.000000</td>\n",
       "    </tr>\n",
       "  </tbody>\n",
       "</table>\n",
       "</div>"
      ],
      "text/plain": [
       "          Unnamed: 0       user id      total ads  most ads hour\n",
       "count  588101.000000  5.881010e+05  588101.000000  588101.000000\n",
       "mean   294050.000000  1.310692e+06      24.820876      14.469061\n",
       "std    169770.279667  2.022260e+05      43.715181       4.834634\n",
       "min         0.000000  9.000000e+05       1.000000       0.000000\n",
       "25%    147025.000000  1.143190e+06       4.000000      11.000000\n",
       "50%    294050.000000  1.313725e+06      13.000000      14.000000\n",
       "75%    441075.000000  1.484088e+06      27.000000      18.000000\n",
       "max    588100.000000  1.654483e+06    2065.000000      23.000000"
      ]
     },
     "execution_count": 12,
     "metadata": {},
     "output_type": "execute_result"
    }
   ],
   "source": [
    "original_data.describe()"
   ]
  },
  {
   "cell_type": "markdown",
   "id": "20821702-ca34-4aab-aa3f-3ec98b054ee4",
   "metadata": {},
   "source": [
    "* В данных нет пропусков\n",
    "* most ads day надо бы преобразовать в число дня недели\n",
    "* test group в категориальный признак: A/B\n",
    "* total ads в среднем 24, но максимальное 2065 - возможно есть выбросы.\n",
    "\n",
    "Посчитаем количество выбросов:"
   ]
  },
  {
   "cell_type": "markdown",
   "id": "eb8faf30-ea2a-45d8-9a7e-99555cb291e5",
   "metadata": {},
   "source": [
    "### most ads day"
   ]
  },
  {
   "cell_type": "code",
   "execution_count": 15,
   "id": "de4ab021-20d0-49d0-a626-a21a663b798d",
   "metadata": {},
   "outputs": [
    {
     "data": {
      "text/plain": [
       "array(['Monday', 'Tuesday', 'Friday', 'Saturday', 'Wednesday', 'Sunday',\n",
       "       'Thursday'], dtype=object)"
      ]
     },
     "execution_count": 15,
     "metadata": {},
     "output_type": "execute_result"
    }
   ],
   "source": [
    "original_data['most ads day'].unique()"
   ]
  },
  {
   "cell_type": "code",
   "execution_count": 16,
   "id": "08f605f5-3d75-4950-8b01-a0e051fd77d8",
   "metadata": {},
   "outputs": [],
   "source": [
    "day_of_week_dict = {\n",
    "    'Monday': 1,\n",
    "    'Tuesday': 2,\n",
    "    'Wednesday': 3,\n",
    "    'Thursday': 4,\n",
    "    'Friday': 5,\n",
    "    'Saturday': 6,\n",
    "    'Sunday': 7\n",
    "}"
   ]
  },
  {
   "cell_type": "markdown",
   "id": "9e24d131-fade-4ea4-8f2d-d4836db7961a",
   "metadata": {},
   "source": [
    "### test group"
   ]
  },
  {
   "cell_type": "code",
   "execution_count": 18,
   "id": "f44b916d-c699-48c0-a494-bc3fe24de95e",
   "metadata": {},
   "outputs": [
    {
     "data": {
      "text/plain": [
       "test group\n",
       "ad     564577\n",
       "psa     23524\n",
       "Name: count, dtype: int64"
      ]
     },
     "execution_count": 18,
     "metadata": {},
     "output_type": "execute_result"
    }
   ],
   "source": [
    "original_data['test group'].value_counts()"
   ]
  },
  {
   "cell_type": "code",
   "execution_count": 19,
   "id": "b837e382-b9fe-4f55-832d-202aa51ba59c",
   "metadata": {},
   "outputs": [],
   "source": [
    "test_group_dict = {\n",
    "    'ad': 'A',\n",
    "    'psa': 'B',\n",
    "}"
   ]
  },
  {
   "cell_type": "markdown",
   "id": "f914e4f8-978c-454f-9b6f-b8ef60edf5ef",
   "metadata": {},
   "source": [
    "### total ads"
   ]
  },
  {
   "cell_type": "code",
   "execution_count": 21,
   "id": "449c5f9e-d657-4014-be9a-6a96b0155634",
   "metadata": {},
   "outputs": [
    {
     "name": "stdout",
     "output_type": "stream",
     "text": [
      "52057 выбросов с минимальным значением 62\n"
     ]
    }
   ],
   "source": [
    "Q1 = original_data['total ads'].quantile(0.25)\n",
    "Q3 = original_data['total ads'].quantile(0.75)\n",
    "IQR = Q3 - Q1\n",
    "upper_bound = Q3 + 1.5 * IQR\n",
    "\n",
    "outliers = original_data[original_data['total ads'] > upper_bound]\n",
    "print(f'{outliers['total ads'].count()} выбросов с минимальным значением {outliers['total ads'].min()}')"
   ]
  },
  {
   "cell_type": "markdown",
   "id": "bd75fdf5-437f-433f-9fad-8489df9c1054",
   "metadata": {},
   "source": [
    "62 рекламы человек мог увидеть, сделаем отсечку повыше"
   ]
  },
  {
   "cell_type": "code",
   "execution_count": 23,
   "id": "936fd625-b76a-4155-9266-1fb9796a6965",
   "metadata": {},
   "outputs": [
    {
     "data": {
      "text/plain": [
       "585"
      ]
     },
     "execution_count": 23,
     "metadata": {},
     "output_type": "execute_result"
    }
   ],
   "source": [
    "original_data[original_data['total ads'] > 500]['total ads'].count()"
   ]
  },
  {
   "cell_type": "markdown",
   "id": "9d017ec5-c47b-43de-a786-00261e57406b",
   "metadata": {},
   "source": [
    "Вот это и удалим в пайплайне."
   ]
  },
  {
   "cell_type": "markdown",
   "id": "e98233ae-5a58-47c8-bd0d-5ea4831b8c26",
   "metadata": {},
   "source": [
    "## Преобразование данных"
   ]
  },
  {
   "cell_type": "code",
   "execution_count": 26,
   "id": "984d6da1-217e-4767-b9dd-0343c97d446a",
   "metadata": {},
   "outputs": [],
   "source": [
    "class RemoveOutliersPreprocessing(BaseEstimator, TransformerMixin):\n",
    "    def fit(self, X, y=None):\n",
    "        return self\n",
    "\n",
    "    def transform(self, X, y=None):\n",
    "        X = X[X['total ads'] < 500]\n",
    "        return X\n",
    "\n",
    "    def fit_transform(self, X, y=None):\n",
    "        self.fit(X)\n",
    "        return self.transform(X)"
   ]
  },
  {
   "cell_type": "code",
   "execution_count": 27,
   "id": "a7c28fb6-8601-4d45-9b7e-e8dddab8f7dc",
   "metadata": {},
   "outputs": [],
   "source": [
    "class TypeCastPreprocessing(BaseEstimator, TransformerMixin):\n",
    "    def fit(self, X, y=None):\n",
    "        return self\n",
    "\n",
    "    def transform(self, X, y=None):\n",
    "        X['most ads day'].replace(day_of_week_dict, inplace=True)\n",
    "        X['test group'].replace(test_group_dict, inplace=True)\n",
    "        X['test group'] = X['test group'].astype('category')\n",
    "        \n",
    "        X.rename(columns={'Unnamed: 0': 'id'}, inplace=True)\n",
    "        return X\n",
    "\n",
    "    def fit_transform(self, X, y=None):\n",
    "        self.fit(X)\n",
    "        return self.transform(X)"
   ]
  },
  {
   "cell_type": "markdown",
   "id": "f1a7400b-4f79-4b9c-8423-7dfdd0c8033d",
   "metadata": {},
   "source": [
    "### Удаление пользователей, которые попали в обе группы"
   ]
  },
  {
   "cell_type": "code",
   "execution_count": 29,
   "id": "6da87aec-9517-437a-9f4a-1bf89b3f0397",
   "metadata": {},
   "outputs": [],
   "source": [
    "class RemoveDoubleUsersPreprocessing(BaseEstimator, TransformerMixin):\n",
    "    def fit(self, X, y=None):\n",
    "        return self\n",
    "\n",
    "    def transform(self, X, y=None):\n",
    "        user_group_counts = X.groupby('user id')['test group'].nunique()\n",
    "        users_in_multiple_groups = user_group_counts[user_group_counts > 1].index\n",
    "        X = X[~X['user id'].isin(users_in_multiple_groups)]\n",
    "        return X\n",
    "\n",
    "    def fit_transform(self, X, y=None):\n",
    "        self.fit(X)\n",
    "        return self.transform(X)"
   ]
  },
  {
   "cell_type": "markdown",
   "id": "7d9ac928-45b5-4c08-a4b2-01cc209df08c",
   "metadata": {},
   "source": [
    "Но в нашем датасете таких нет."
   ]
  },
  {
   "cell_type": "markdown",
   "id": "f6201189-ab83-438b-bf06-9b1f8b5f3aaf",
   "metadata": {},
   "source": [
    "## Анализ обработанного датасета"
   ]
  },
  {
   "cell_type": "code",
   "execution_count": 32,
   "id": "28f7ccf0-cd34-40e9-8bc5-98282a1d0f5e",
   "metadata": {},
   "outputs": [],
   "source": [
    "pipeline_preprocessing = Pipeline([\n",
    "    ('outliers_filter', RemoveOutliersPreprocessing()),\n",
    "    ('type_cast', TypeCastPreprocessing()),\n",
    "    ('users_in_two_groups', RemoveDoubleUsersPreprocessing()),\n",
    "])"
   ]
  },
  {
   "cell_type": "code",
   "execution_count": 33,
   "id": "e1a6d113-5c72-4fb6-9d28-a49958e605db",
   "metadata": {},
   "outputs": [],
   "source": [
    "data = pipeline_preprocessing.fit_transform(original_data.copy(deep=True))"
   ]
  },
  {
   "cell_type": "code",
   "execution_count": 34,
   "id": "22f5e52d-8830-4a37-9b43-7d6902c4ff69",
   "metadata": {},
   "outputs": [
    {
     "data": {
      "text/html": [
       "<div>\n",
       "<style scoped>\n",
       "    .dataframe tbody tr th:only-of-type {\n",
       "        vertical-align: middle;\n",
       "    }\n",
       "\n",
       "    .dataframe tbody tr th {\n",
       "        vertical-align: top;\n",
       "    }\n",
       "\n",
       "    .dataframe thead th {\n",
       "        text-align: right;\n",
       "    }\n",
       "</style>\n",
       "<table border=\"1\" class=\"dataframe\">\n",
       "  <thead>\n",
       "    <tr style=\"text-align: right;\">\n",
       "      <th></th>\n",
       "      <th>id</th>\n",
       "      <th>user id</th>\n",
       "      <th>test group</th>\n",
       "      <th>converted</th>\n",
       "      <th>total ads</th>\n",
       "      <th>most ads day</th>\n",
       "      <th>most ads hour</th>\n",
       "    </tr>\n",
       "  </thead>\n",
       "  <tbody>\n",
       "    <tr>\n",
       "      <th>0</th>\n",
       "      <td>0</td>\n",
       "      <td>1069124</td>\n",
       "      <td>A</td>\n",
       "      <td>False</td>\n",
       "      <td>130</td>\n",
       "      <td>1</td>\n",
       "      <td>20</td>\n",
       "    </tr>\n",
       "    <tr>\n",
       "      <th>1</th>\n",
       "      <td>1</td>\n",
       "      <td>1119715</td>\n",
       "      <td>A</td>\n",
       "      <td>False</td>\n",
       "      <td>93</td>\n",
       "      <td>2</td>\n",
       "      <td>22</td>\n",
       "    </tr>\n",
       "    <tr>\n",
       "      <th>2</th>\n",
       "      <td>2</td>\n",
       "      <td>1144181</td>\n",
       "      <td>A</td>\n",
       "      <td>False</td>\n",
       "      <td>21</td>\n",
       "      <td>2</td>\n",
       "      <td>18</td>\n",
       "    </tr>\n",
       "    <tr>\n",
       "      <th>3</th>\n",
       "      <td>3</td>\n",
       "      <td>1435133</td>\n",
       "      <td>A</td>\n",
       "      <td>False</td>\n",
       "      <td>355</td>\n",
       "      <td>2</td>\n",
       "      <td>10</td>\n",
       "    </tr>\n",
       "    <tr>\n",
       "      <th>4</th>\n",
       "      <td>4</td>\n",
       "      <td>1015700</td>\n",
       "      <td>A</td>\n",
       "      <td>False</td>\n",
       "      <td>276</td>\n",
       "      <td>5</td>\n",
       "      <td>14</td>\n",
       "    </tr>\n",
       "  </tbody>\n",
       "</table>\n",
       "</div>"
      ],
      "text/plain": [
       "   id  user id test group  converted  total ads  most ads day  most ads hour\n",
       "0   0  1069124          A      False        130             1             20\n",
       "1   1  1119715          A      False         93             2             22\n",
       "2   2  1144181          A      False         21             2             18\n",
       "3   3  1435133          A      False        355             2             10\n",
       "4   4  1015700          A      False        276             5             14"
      ]
     },
     "execution_count": 34,
     "metadata": {},
     "output_type": "execute_result"
    }
   ],
   "source": [
    "data.head()"
   ]
  },
  {
   "cell_type": "code",
   "execution_count": 35,
   "id": "2d3ff0e9-11c2-49ac-ba47-5e939aa64847",
   "metadata": {},
   "outputs": [
    {
     "name": "stdout",
     "output_type": "stream",
     "text": [
      "<class 'pandas.core.frame.DataFrame'>\n",
      "Index: 587512 entries, 0 to 588100\n",
      "Data columns (total 7 columns):\n",
      " #   Column         Non-Null Count   Dtype   \n",
      "---  ------         --------------   -----   \n",
      " 0   id             587512 non-null  int64   \n",
      " 1   user id        587512 non-null  int64   \n",
      " 2   test group     587512 non-null  category\n",
      " 3   converted      587512 non-null  bool    \n",
      " 4   total ads      587512 non-null  int64   \n",
      " 5   most ads day   587512 non-null  int64   \n",
      " 6   most ads hour  587512 non-null  int64   \n",
      "dtypes: bool(1), category(1), int64(5)\n",
      "memory usage: 28.0 MB\n"
     ]
    }
   ],
   "source": [
    "data.info()"
   ]
  },
  {
   "cell_type": "code",
   "execution_count": 36,
   "id": "6c4f7869-f1bf-44e2-a8ee-f7874200ef8e",
   "metadata": {},
   "outputs": [
    {
     "data": {
      "text/html": [
       "<div>\n",
       "<style scoped>\n",
       "    .dataframe tbody tr th:only-of-type {\n",
       "        vertical-align: middle;\n",
       "    }\n",
       "\n",
       "    .dataframe tbody tr th {\n",
       "        vertical-align: top;\n",
       "    }\n",
       "\n",
       "    .dataframe thead th {\n",
       "        text-align: right;\n",
       "    }\n",
       "</style>\n",
       "<table border=\"1\" class=\"dataframe\">\n",
       "  <thead>\n",
       "    <tr style=\"text-align: right;\">\n",
       "      <th></th>\n",
       "      <th>id</th>\n",
       "      <th>user id</th>\n",
       "      <th>total ads</th>\n",
       "      <th>most ads day</th>\n",
       "      <th>most ads hour</th>\n",
       "    </tr>\n",
       "  </thead>\n",
       "  <tbody>\n",
       "    <tr>\n",
       "      <th>count</th>\n",
       "      <td>587512.000000</td>\n",
       "      <td>5.875120e+05</td>\n",
       "      <td>587512.000000</td>\n",
       "      <td>587512.000000</td>\n",
       "      <td>587512.000000</td>\n",
       "    </tr>\n",
       "    <tr>\n",
       "      <th>mean</th>\n",
       "      <td>294300.120197</td>\n",
       "      <td>1.310655e+06</td>\n",
       "      <td>24.168696</td>\n",
       "      <td>4.025870</td>\n",
       "      <td>14.470288</td>\n",
       "    </tr>\n",
       "    <tr>\n",
       "      <th>std</th>\n",
       "      <td>169665.530025</td>\n",
       "      <td>2.022310e+05</td>\n",
       "      <td>38.092996</td>\n",
       "      <td>2.004091</td>\n",
       "      <td>4.834749</td>\n",
       "    </tr>\n",
       "    <tr>\n",
       "      <th>min</th>\n",
       "      <td>0.000000</td>\n",
       "      <td>9.000000e+05</td>\n",
       "      <td>1.000000</td>\n",
       "      <td>1.000000</td>\n",
       "      <td>0.000000</td>\n",
       "    </tr>\n",
       "    <tr>\n",
       "      <th>25%</th>\n",
       "      <td>147457.750000</td>\n",
       "      <td>1.143135e+06</td>\n",
       "      <td>4.000000</td>\n",
       "      <td>2.000000</td>\n",
       "      <td>11.000000</td>\n",
       "    </tr>\n",
       "    <tr>\n",
       "      <th>50%</th>\n",
       "      <td>294344.500000</td>\n",
       "      <td>1.313662e+06</td>\n",
       "      <td>13.000000</td>\n",
       "      <td>4.000000</td>\n",
       "      <td>14.000000</td>\n",
       "    </tr>\n",
       "    <tr>\n",
       "      <th>75%</th>\n",
       "      <td>441222.250000</td>\n",
       "      <td>1.484058e+06</td>\n",
       "      <td>27.000000</td>\n",
       "      <td>6.000000</td>\n",
       "      <td>18.000000</td>\n",
       "    </tr>\n",
       "    <tr>\n",
       "      <th>max</th>\n",
       "      <td>588100.000000</td>\n",
       "      <td>1.654483e+06</td>\n",
       "      <td>499.000000</td>\n",
       "      <td>7.000000</td>\n",
       "      <td>23.000000</td>\n",
       "    </tr>\n",
       "  </tbody>\n",
       "</table>\n",
       "</div>"
      ],
      "text/plain": [
       "                  id       user id      total ads   most ads day  \\\n",
       "count  587512.000000  5.875120e+05  587512.000000  587512.000000   \n",
       "mean   294300.120197  1.310655e+06      24.168696       4.025870   \n",
       "std    169665.530025  2.022310e+05      38.092996       2.004091   \n",
       "min         0.000000  9.000000e+05       1.000000       1.000000   \n",
       "25%    147457.750000  1.143135e+06       4.000000       2.000000   \n",
       "50%    294344.500000  1.313662e+06      13.000000       4.000000   \n",
       "75%    441222.250000  1.484058e+06      27.000000       6.000000   \n",
       "max    588100.000000  1.654483e+06     499.000000       7.000000   \n",
       "\n",
       "       most ads hour  \n",
       "count  587512.000000  \n",
       "mean       14.470288  \n",
       "std         4.834749  \n",
       "min         0.000000  \n",
       "25%        11.000000  \n",
       "50%        14.000000  \n",
       "75%        18.000000  \n",
       "max        23.000000  "
      ]
     },
     "execution_count": 36,
     "metadata": {},
     "output_type": "execute_result"
    }
   ],
   "source": [
    "data.describe()"
   ]
  },
  {
   "cell_type": "markdown",
   "id": "c3526433-4490-4f46-9141-4d39fd90c88a",
   "metadata": {},
   "source": [
    "# Первичный анализ результатов A/B-тестирования"
   ]
  },
  {
   "cell_type": "markdown",
   "id": "25890e34-61a2-4920-876a-7f4bfa578d30",
   "metadata": {},
   "source": [
    "## Рассчет показателей"
   ]
  },
  {
   "cell_type": "markdown",
   "id": "9b8ed8da-56c3-4d28-ace5-d8f9faf2e48e",
   "metadata": {},
   "source": [
    "Рассчитаем показатели для контрольной и тестовой групп:\n",
    "* количество посещений сайта(total_visited)\n",
    "* суммарное количество совершённых покупок(total_purchases)\n",
    "* среднее количество рекламы(mean_ads_count)\n",
    "* процент конверсии(conversion)"
   ]
  },
  {
   "cell_type": "code",
   "execution_count": 40,
   "id": "031aff10-e0b7-4d75-a06e-4785b8caf1d6",
   "metadata": {},
   "outputs": [
    {
     "data": {
      "text/html": [
       "<div>\n",
       "<style scoped>\n",
       "    .dataframe tbody tr th:only-of-type {\n",
       "        vertical-align: middle;\n",
       "    }\n",
       "\n",
       "    .dataframe tbody tr th {\n",
       "        vertical-align: top;\n",
       "    }\n",
       "\n",
       "    .dataframe thead th {\n",
       "        text-align: right;\n",
       "    }\n",
       "</style>\n",
       "<table border=\"1\" class=\"dataframe\">\n",
       "  <thead>\n",
       "    <tr style=\"text-align: right;\">\n",
       "      <th></th>\n",
       "      <th>group</th>\n",
       "      <th>total_visited</th>\n",
       "      <th>total_purchases</th>\n",
       "      <th>mean_ads_count</th>\n",
       "      <th>conversion</th>\n",
       "    </tr>\n",
       "  </thead>\n",
       "  <tbody>\n",
       "    <tr>\n",
       "      <th>0</th>\n",
       "      <td>A</td>\n",
       "      <td>564007</td>\n",
       "      <td>14323</td>\n",
       "      <td>24.163390</td>\n",
       "      <td>2.539507</td>\n",
       "    </tr>\n",
       "    <tr>\n",
       "      <th>1</th>\n",
       "      <td>B</td>\n",
       "      <td>23505</td>\n",
       "      <td>418</td>\n",
       "      <td>24.296022</td>\n",
       "      <td>1.778345</td>\n",
       "    </tr>\n",
       "  </tbody>\n",
       "</table>\n",
       "</div>"
      ],
      "text/plain": [
       "  group  total_visited  total_purchases  mean_ads_count  conversion\n",
       "0     A         564007            14323       24.163390    2.539507\n",
       "1     B          23505              418       24.296022    1.778345"
      ]
     },
     "execution_count": 40,
     "metadata": {},
     "output_type": "execute_result"
    }
   ],
   "source": [
    "total_group_data = data.groupby(['test group']).agg({\n",
    "    'user id': 'count',\n",
    "    'converted': 'sum',\n",
    "    'total ads': 'mean',\n",
    "}).reset_index().rename(columns={\n",
    "    'test group': 'group',\n",
    "    'user id': 'total_visited',\n",
    "    'converted': 'total_purchases',\n",
    "    'total ads': 'mean_ads_count',\n",
    "})\n",
    "total_group_data['conversion'] = total_group_data.apply(\n",
    "    lambda x: x['total_purchases'] / x['total_visited'] * 100,\n",
    "    axis=1,\n",
    ")\n",
    "total_group_data.head()"
   ]
  },
  {
   "cell_type": "code",
   "execution_count": 41,
   "id": "3d8b7fe9-6bf6-4beb-942e-374be7dcc218",
   "metadata": {},
   "outputs": [
    {
     "name": "stdout",
     "output_type": "stream",
     "text": [
      "Общее количество посещений сайта: 587512\n",
      "Группа А составляет 95.999%, а группа B 4.001%\n"
     ]
    }
   ],
   "source": [
    "group_A_count = total_group_data[total_group_data['group'] == 'A']['total_visited'].iloc[0]\n",
    "group_B_count = total_group_data[total_group_data['group'] == 'B']['total_visited'].iloc[0]\n",
    "\n",
    "total_count = group_A_count + group_B_count\n",
    "group_B_percent = group_B_count / total_count * 100\n",
    "print(f'Общее количество посещений сайта: {total_count}')\n",
    "print(f'Группа А составляет {round((100 - group_B_percent), 3)}%, а группа B {round(group_B_percent, 3)}%')"
   ]
  },
  {
   "cell_type": "markdown",
   "id": "80bb6f79-5b36-4ed9-a63d-2e98011aee61",
   "metadata": {},
   "source": [
    "Рассчитаем размер выборки по калькулятору Эвана Миллера, у нас:\n",
    "* конверсия существующего варианта 2.54%\n",
    "* минимально желаемый результат изменения метрики зададим абсолютным 0.5%\n",
    "* мощность теста зададим 90%\n",
    "* уровень значимости зададим 5%\n",
    "\n",
    "тогда размер выборки должен быть 21582 на каждую группу, у нас есть столько элементов в каждой группе, однако выборки сильно не сбалансированы, вместо желаемых 50%/50% у нас 96%/4%"
   ]
  },
  {
   "cell_type": "markdown",
   "id": "bc1a1c92-3bbb-4d46-bcac-0a8fdcffdba5",
   "metadata": {},
   "source": [
    "## Визуализация"
   ]
  },
  {
   "cell_type": "code",
   "execution_count": 44,
   "id": "45bb6189-6606-4c31-ae9b-dd7415fe4910",
   "metadata": {},
   "outputs": [
    {
     "data": {
      "text/html": [
       "<div>\n",
       "<style scoped>\n",
       "    .dataframe tbody tr th:only-of-type {\n",
       "        vertical-align: middle;\n",
       "    }\n",
       "\n",
       "    .dataframe tbody tr th {\n",
       "        vertical-align: top;\n",
       "    }\n",
       "\n",
       "    .dataframe thead th {\n",
       "        text-align: right;\n",
       "    }\n",
       "</style>\n",
       "<table border=\"1\" class=\"dataframe\">\n",
       "  <thead>\n",
       "    <tr style=\"text-align: right;\">\n",
       "      <th></th>\n",
       "      <th>group</th>\n",
       "      <th>most ads day</th>\n",
       "      <th>total_visited</th>\n",
       "      <th>total_purchases</th>\n",
       "      <th>mean_ads_count</th>\n",
       "      <th>conversion</th>\n",
       "    </tr>\n",
       "  </thead>\n",
       "  <tbody>\n",
       "    <tr>\n",
       "      <th>0</th>\n",
       "      <td>A</td>\n",
       "      <td>1</td>\n",
       "      <td>83455</td>\n",
       "      <td>2750</td>\n",
       "      <td>24.492888</td>\n",
       "      <td>3.295189</td>\n",
       "    </tr>\n",
       "    <tr>\n",
       "      <th>1</th>\n",
       "      <td>A</td>\n",
       "      <td>2</td>\n",
       "      <td>74513</td>\n",
       "      <td>2254</td>\n",
       "      <td>23.509857</td>\n",
       "      <td>3.024976</td>\n",
       "    </tr>\n",
       "    <tr>\n",
       "      <th>2</th>\n",
       "      <td>A</td>\n",
       "      <td>3</td>\n",
       "      <td>77323</td>\n",
       "      <td>1945</td>\n",
       "      <td>23.776923</td>\n",
       "      <td>2.515422</td>\n",
       "    </tr>\n",
       "    <tr>\n",
       "      <th>3</th>\n",
       "      <td>A</td>\n",
       "      <td>4</td>\n",
       "      <td>79011</td>\n",
       "      <td>1701</td>\n",
       "      <td>22.726646</td>\n",
       "      <td>2.152865</td>\n",
       "    </tr>\n",
       "    <tr>\n",
       "      <th>4</th>\n",
       "      <td>A</td>\n",
       "      <td>5</td>\n",
       "      <td>88679</td>\n",
       "      <td>1978</td>\n",
       "      <td>25.720825</td>\n",
       "      <td>2.230517</td>\n",
       "    </tr>\n",
       "    <tr>\n",
       "      <th>5</th>\n",
       "      <td>A</td>\n",
       "      <td>6</td>\n",
       "      <td>78734</td>\n",
       "      <td>1670</td>\n",
       "      <td>24.583471</td>\n",
       "      <td>2.121066</td>\n",
       "    </tr>\n",
       "    <tr>\n",
       "      <th>6</th>\n",
       "      <td>A</td>\n",
       "      <td>7</td>\n",
       "      <td>82292</td>\n",
       "      <td>2025</td>\n",
       "      <td>24.083350</td>\n",
       "      <td>2.460750</td>\n",
       "    </tr>\n",
       "    <tr>\n",
       "      <th>7</th>\n",
       "      <td>B</td>\n",
       "      <td>1</td>\n",
       "      <td>3499</td>\n",
       "      <td>79</td>\n",
       "      <td>23.373535</td>\n",
       "      <td>2.257788</td>\n",
       "    </tr>\n",
       "    <tr>\n",
       "      <th>8</th>\n",
       "      <td>B</td>\n",
       "      <td>2</td>\n",
       "      <td>2906</td>\n",
       "      <td>42</td>\n",
       "      <td>20.966965</td>\n",
       "      <td>1.445286</td>\n",
       "    </tr>\n",
       "    <tr>\n",
       "      <th>9</th>\n",
       "      <td>B</td>\n",
       "      <td>3</td>\n",
       "      <td>3487</td>\n",
       "      <td>55</td>\n",
       "      <td>22.538859</td>\n",
       "      <td>1.577287</td>\n",
       "    </tr>\n",
       "    <tr>\n",
       "      <th>10</th>\n",
       "      <td>B</td>\n",
       "      <td>4</td>\n",
       "      <td>3899</td>\n",
       "      <td>78</td>\n",
       "      <td>25.819184</td>\n",
       "      <td>2.000513</td>\n",
       "    </tr>\n",
       "    <tr>\n",
       "      <th>11</th>\n",
       "      <td>B</td>\n",
       "      <td>5</td>\n",
       "      <td>3800</td>\n",
       "      <td>62</td>\n",
       "      <td>24.516579</td>\n",
       "      <td>1.631579</td>\n",
       "    </tr>\n",
       "    <tr>\n",
       "      <th>12</th>\n",
       "      <td>B</td>\n",
       "      <td>6</td>\n",
       "      <td>2856</td>\n",
       "      <td>39</td>\n",
       "      <td>27.651611</td>\n",
       "      <td>1.365546</td>\n",
       "    </tr>\n",
       "    <tr>\n",
       "      <th>13</th>\n",
       "      <td>B</td>\n",
       "      <td>7</td>\n",
       "      <td>3058</td>\n",
       "      <td>63</td>\n",
       "      <td>25.168738</td>\n",
       "      <td>2.060170</td>\n",
       "    </tr>\n",
       "  </tbody>\n",
       "</table>\n",
       "</div>"
      ],
      "text/plain": [
       "   group  most ads day  total_visited  total_purchases  mean_ads_count  \\\n",
       "0      A             1          83455             2750       24.492888   \n",
       "1      A             2          74513             2254       23.509857   \n",
       "2      A             3          77323             1945       23.776923   \n",
       "3      A             4          79011             1701       22.726646   \n",
       "4      A             5          88679             1978       25.720825   \n",
       "5      A             6          78734             1670       24.583471   \n",
       "6      A             7          82292             2025       24.083350   \n",
       "7      B             1           3499               79       23.373535   \n",
       "8      B             2           2906               42       20.966965   \n",
       "9      B             3           3487               55       22.538859   \n",
       "10     B             4           3899               78       25.819184   \n",
       "11     B             5           3800               62       24.516579   \n",
       "12     B             6           2856               39       27.651611   \n",
       "13     B             7           3058               63       25.168738   \n",
       "\n",
       "    conversion  \n",
       "0     3.295189  \n",
       "1     3.024976  \n",
       "2     2.515422  \n",
       "3     2.152865  \n",
       "4     2.230517  \n",
       "5     2.121066  \n",
       "6     2.460750  \n",
       "7     2.257788  \n",
       "8     1.445286  \n",
       "9     1.577287  \n",
       "10    2.000513  \n",
       "11    1.631579  \n",
       "12    1.365546  \n",
       "13    2.060170  "
      ]
     },
     "execution_count": 44,
     "metadata": {},
     "output_type": "execute_result"
    }
   ],
   "source": [
    "day_group_data = data.groupby(['test group', 'most ads day']).agg({\n",
    "    'user id': 'count',\n",
    "    'converted': 'sum',\n",
    "    'total ads': 'mean',\n",
    "}).reset_index().rename(columns={\n",
    "    'test group': 'group',\n",
    "    'user id': 'total_visited',\n",
    "    'converted': 'total_purchases',\n",
    "    'total ads': 'mean_ads_count',\n",
    "})\n",
    "day_group_data['conversion'] = day_group_data.apply(\n",
    "    lambda x: x['total_purchases'] / x['total_visited'] * 100,\n",
    "    axis=1,\n",
    ")\n",
    "day_group_data.head(20)"
   ]
  },
  {
   "cell_type": "code",
   "execution_count": 45,
   "id": "786c6b96-9dc6-48db-b17c-aac8c7acd65d",
   "metadata": {},
   "outputs": [
    {
     "data": {
      "image/png": "[encoded data removed]",
      "text/plain": [
       "<Figure size 800x400 with 1 Axes>"
      ]
     },
     "metadata": {},
     "output_type": "display_data"
    }
   ],
   "source": [
    "fig = plt.figure(figsize=(8, 4))\n",
    "ax = fig.add_axes([1, 1, 1, 1])\n",
    "sns.lineplot(\n",
    "    data=day_group_data,\n",
    "    x='most ads day',\n",
    "    y='conversion',\n",
    "    hue='group', \n",
    "    ax=ax\n",
    ")\n",
    "ax.set_title('График конверсии по дням недели')\n",
    "ax.grid(True);"
   ]
  },
  {
   "cell_type": "code",
   "execution_count": 46,
   "id": "cd37db19-102c-4836-a32e-78ccf5897870",
   "metadata": {},
   "outputs": [
    {
     "data": {
      "image/png": "[encoded data removed]",
      "text/plain": [
       "<Figure size 800x400 with 1 Axes>"
      ]
     },
     "metadata": {},
     "output_type": "display_data"
    }
   ],
   "source": [
    "day_group_data['cum_total_visited'] = day_group_data.groupby(['group'])['total_visited'].cumsum()\n",
    "day_group_data['cum_total_purchases'] = day_group_data.groupby(['group'])['total_purchases'].cumsum()\n",
    "day_group_data['cum_conversion'] = day_group_data['cum_total_purchases']\\\n",
    "    /day_group_data['cum_total_visited'] * 100\n",
    "\n",
    "fig = plt.figure(figsize=(8, 4))\n",
    "ax = fig.add_axes([1, 1, 1, 1])\n",
    "sns.lineplot(x='most ads day', y='cum_conversion', data=day_group_data, hue='group', ax=ax)\n",
    "ax.set_title('График кумулятивной конверсии по дням недели')\n",
    "ax.grid(True);"
   ]
  },
  {
   "cell_type": "markdown",
   "id": "4e667178-b8eb-4671-b95a-34c1bcd4d13a",
   "metadata": {},
   "source": [
    "## Первичный вывод"
   ]
  },
  {
   "cell_type": "markdown",
   "id": "717b5969-d9d5-4dbd-8199-5a4f83747479",
   "metadata": {},
   "source": [
    "Первичный вывод о результатах A/B тестирования: группа А эффективней, поскольку выше конверсия при сопостовимом среднем количестве показов рекламы. То есть наш эксперемент неудачный(не надо внедрять новый подход). Однако мы не знаем продолжительность эксперемента, возможно, мы столкнулись с проблемой подглядывания. В нашем датасете нет даты и мы это никогда не узнаем. Исходя из кумулятивной конверсии по дням недели, можно примерно, сказать что тренд устойчивый: конверсия в группе А выше, чем в группе B."
   ]
  },
  {
   "cell_type": "markdown",
   "id": "c9017ff9-63cd-42fb-9d33-bdc8fd102fa1",
   "metadata": {},
   "source": [
    "# Статистический анализ результатов A/B-тестирования"
   ]
  },
  {
   "cell_type": "markdown",
   "id": "3c0a312c-f7c4-4132-ab6e-d84c7524c759",
   "metadata": {},
   "source": [
    "Интересующий нас признак(совершил ли пользователь конверсию) — это бинарная случайная величина, имеющая распределение Бернулли. При такой постановке задачи наша цель — сравнить истинные конверсии в группах A и B на основе выборочных данных."
   ]
  },
  {
   "cell_type": "markdown",
   "id": "b7231cb6-4c08-4ca7-a588-e2b943551418",
   "metadata": {},
   "source": [
    "## Проверка данных на нормальность"
   ]
  },
  {
   "cell_type": "code",
   "execution_count": 52,
   "id": "f5bea954-0157-41c5-8cd5-a9a256be0270",
   "metadata": {},
   "outputs": [
    {
     "name": "stdout",
     "output_type": "stream",
     "text": [
      "Группа A: p-value = 0.18660332404250105\n",
      "Группа B: p-value = 0.4587354238202053\n"
     ]
    }
   ],
   "source": [
    "group_a = day_group_data[day_group_data['group'] == 'A']['conversion']\n",
    "group_b = day_group_data[day_group_data['group'] == 'B']['conversion']\n",
    "\n",
    "_, p_value_a = shapiro(group_a)\n",
    "_, p_value_b = shapiro(group_b)\n",
    "print(f\"Группа A: p-value = {p_value_a}\")\n",
    "print(f\"Группа B: p-value = {p_value_b}\")"
   ]
  },
  {
   "cell_type": "markdown",
   "id": "0a371ce7-8056-4968-93be-a3d6c6cadc11",
   "metadata": {},
   "source": [
    "Конверсия по дням не распределена нормально."
   ]
  },
  {
   "cell_type": "code",
   "execution_count": 54,
   "id": "cd3e99c6-3e8a-4d80-8616-18cb17ec7a00",
   "metadata": {},
   "outputs": [
    {
     "name": "stdout",
     "output_type": "stream",
     "text": [
      "Группа A: p-value = 0.9694644564467028\n",
      "Группа B: p-value = 0.9995425310902468\n"
     ]
    }
   ],
   "source": [
    "group_a = day_group_data[day_group_data['group'] == 'A']['mean_ads_count']\n",
    "group_b = day_group_data[day_group_data['group'] == 'B']['mean_ads_count']\n",
    "\n",
    "_, p_value_a = shapiro(group_a)\n",
    "_, p_value_b = shapiro(group_b)\n",
    "print(f\"Группа A: p-value = {p_value_a}\")\n",
    "print(f\"Группа B: p-value = {p_value_b}\")"
   ]
  },
  {
   "cell_type": "markdown",
   "id": "efe2378a-f13a-4009-b043-9724351bb67c",
   "metadata": {},
   "source": [
    "Среднее количество увиденной рекламы по дням не распределено нормально."
   ]
  },
  {
   "cell_type": "markdown",
   "id": "ebfa12cb-033b-41fb-ad88-269c06af9ad8",
   "metadata": {},
   "source": [
    "## Проведение статистического теста"
   ]
  },
  {
   "cell_type": "markdown",
   "id": "b6d813c2-5bd3-41d0-addd-5a5b4dc6beb0",
   "metadata": {},
   "source": [
    "Мы знаем, что группы независимые: пользователи в группах А и B не пересекаются. Данные не распределены нормально, но их достаточно, поэтому для проверки гипотезы равенства(при альтернативной гипотезе о различиях) пропорций мы можем воспользоваться Z-тестом."
   ]
  },
  {
   "cell_type": "markdown",
   "id": "ffa5a52b-ee25-4527-8108-f99c1fa7f245",
   "metadata": {},
   "source": [
    "* Нулевая гипотеза(будет задавать отсутствие эффекта): конверсия в группе А меньше либо равна конверсии в группе B.\n",
    "* Альтернативная гипотеза(будет задавать наличие эффекта): конверсия в группе А больше, чем конверсия в группе B."
   ]
  },
  {
   "cell_type": "code",
   "execution_count": 59,
   "id": "70f70cff",
   "metadata": {},
   "outputs": [
    {
     "data": {
      "text/html": [
       "<div>\n",
       "<style scoped>\n",
       "    .dataframe tbody tr th:only-of-type {\n",
       "        vertical-align: middle;\n",
       "    }\n",
       "\n",
       "    .dataframe tbody tr th {\n",
       "        vertical-align: top;\n",
       "    }\n",
       "\n",
       "    .dataframe thead th {\n",
       "        text-align: right;\n",
       "    }\n",
       "</style>\n",
       "<table border=\"1\" class=\"dataframe\">\n",
       "  <thead>\n",
       "    <tr style=\"text-align: right;\">\n",
       "      <th></th>\n",
       "      <th>group</th>\n",
       "      <th>total_visited</th>\n",
       "      <th>total_purchases</th>\n",
       "      <th>mean_ads_count</th>\n",
       "      <th>conversion</th>\n",
       "    </tr>\n",
       "  </thead>\n",
       "  <tbody>\n",
       "    <tr>\n",
       "      <th>0</th>\n",
       "      <td>A</td>\n",
       "      <td>564007</td>\n",
       "      <td>14323</td>\n",
       "      <td>24.163390</td>\n",
       "      <td>2.539507</td>\n",
       "    </tr>\n",
       "    <tr>\n",
       "      <th>1</th>\n",
       "      <td>B</td>\n",
       "      <td>23505</td>\n",
       "      <td>418</td>\n",
       "      <td>24.296022</td>\n",
       "      <td>1.778345</td>\n",
       "    </tr>\n",
       "  </tbody>\n",
       "</table>\n",
       "</div>"
      ],
      "text/plain": [
       "  group  total_visited  total_purchases  mean_ads_count  conversion\n",
       "0     A         564007            14323       24.163390    2.539507\n",
       "1     B          23505              418       24.296022    1.778345"
      ]
     },
     "metadata": {},
     "output_type": "display_data"
    }
   ],
   "source": [
    "display(total_group_data)"
   ]
  },
  {
   "cell_type": "code",
   "execution_count": 60,
   "id": "2dadbda8-8518-4317-87b1-11c50e83051e",
   "metadata": {},
   "outputs": [
    {
     "name": "stdout",
     "output_type": "stream",
     "text": [
      "p-value:  0.0\n",
      "Отвергаем нулевую гипотезу в пользу альтернативной\n"
     ]
    }
   ],
   "source": [
    "alpha = 0.05\n",
    "_, p_value = proportions_ztest(\n",
    "    count=total_group_data['total_purchases'],\n",
    "    nobs=total_group_data['total_visited'],\n",
    "    alternative='larger'\n",
    ")\n",
    "print('p-value: ', round(p_value, 3))\n",
    "\n",
    "if (p_value <= alpha):\n",
    "    print(\"Отвергаем нулевую гипотезу в пользу альтернативной\")\n",
    "else:\n",
    "    print(\"У нас нет оснований отвергнуть нулевую гипотезу\")"
   ]
  },
  {
   "cell_type": "markdown",
   "id": "48facf50-e2a2-4e66-aa18-93828462071b",
   "metadata": {},
   "source": [
    "А значит согласну статистическому тесту конверсия в группе А больше, чем конверсия в группе В."
   ]
  },
  {
   "cell_type": "markdown",
   "id": "f90e7c0c-9de9-4843-9491-62331d193716",
   "metadata": {},
   "source": [
    "* Нулевая гипотеза(будет задавать отсутствие эффекта): показ рекламы в группе А меньше либо равна показу рекламы в группе B.\n",
    "* Альтернативная гипотеза(будет задавать наличие эффекта): показ рекламы в группе А больше, чем показ рекламы в группе B."
   ]
  },
  {
   "cell_type": "code",
   "execution_count": 63,
   "id": "ce863d35-a773-48de-b711-27cf57a1c7ec",
   "metadata": {},
   "outputs": [
    {
     "name": "stdout",
     "output_type": "stream",
     "text": [
      "p-value:  1.0\n",
      "У нас нет оснований отвергнуть нулевую гипотезу\n"
     ]
    }
   ],
   "source": [
    "alpha = 0.05\n",
    "_, p_value = proportions_ztest(\n",
    "    count=total_group_data['mean_ads_count'],\n",
    "    nobs=total_group_data['total_visited'],\n",
    "    alternative='larger'\n",
    ")\n",
    "print('p-value: ', round(p_value, 3))\n",
    "\n",
    "if (p_value <= alpha):\n",
    "    print(\"Отвергаем нулевую гипотезу в пользу альтернативной\")\n",
    "else:\n",
    "    print(\"У нас нет оснований отвергнуть нулевую гипотезу\")"
   ]
  },
  {
   "cell_type": "markdown",
   "id": "63303c69-18df-45aa-a262-5f00a8174965",
   "metadata": {},
   "source": [
    "А значит согласну статистическому тесту показ в группе А меньше, чем показ рекламы в группе В."
   ]
  },
  {
   "cell_type": "markdown",
   "id": "bdca3af9-c710-477c-9deb-57076608d5d2",
   "metadata": {},
   "source": [
    "# Построение доверительных интервалов"
   ]
  },
  {
   "cell_type": "code",
   "execution_count": 66,
   "id": "7beaa9f3-6acf-4752-b4f3-c661f9f83d85",
   "metadata": {},
   "outputs": [
    {
     "data": {
      "text/html": [
       "<div>\n",
       "<style scoped>\n",
       "    .dataframe tbody tr th:only-of-type {\n",
       "        vertical-align: middle;\n",
       "    }\n",
       "\n",
       "    .dataframe tbody tr th {\n",
       "        vertical-align: top;\n",
       "    }\n",
       "\n",
       "    .dataframe thead th {\n",
       "        text-align: right;\n",
       "    }\n",
       "</style>\n",
       "<table border=\"1\" class=\"dataframe\">\n",
       "  <thead>\n",
       "    <tr style=\"text-align: right;\">\n",
       "      <th></th>\n",
       "      <th>id</th>\n",
       "      <th>user id</th>\n",
       "      <th>test group</th>\n",
       "      <th>converted</th>\n",
       "      <th>total ads</th>\n",
       "      <th>most ads day</th>\n",
       "      <th>most ads hour</th>\n",
       "    </tr>\n",
       "  </thead>\n",
       "  <tbody>\n",
       "    <tr>\n",
       "      <th>0</th>\n",
       "      <td>0</td>\n",
       "      <td>1069124</td>\n",
       "      <td>A</td>\n",
       "      <td>False</td>\n",
       "      <td>130</td>\n",
       "      <td>1</td>\n",
       "      <td>20</td>\n",
       "    </tr>\n",
       "    <tr>\n",
       "      <th>1</th>\n",
       "      <td>1</td>\n",
       "      <td>1119715</td>\n",
       "      <td>A</td>\n",
       "      <td>False</td>\n",
       "      <td>93</td>\n",
       "      <td>2</td>\n",
       "      <td>22</td>\n",
       "    </tr>\n",
       "    <tr>\n",
       "      <th>2</th>\n",
       "      <td>2</td>\n",
       "      <td>1144181</td>\n",
       "      <td>A</td>\n",
       "      <td>False</td>\n",
       "      <td>21</td>\n",
       "      <td>2</td>\n",
       "      <td>18</td>\n",
       "    </tr>\n",
       "    <tr>\n",
       "      <th>3</th>\n",
       "      <td>3</td>\n",
       "      <td>1435133</td>\n",
       "      <td>A</td>\n",
       "      <td>False</td>\n",
       "      <td>355</td>\n",
       "      <td>2</td>\n",
       "      <td>10</td>\n",
       "    </tr>\n",
       "    <tr>\n",
       "      <th>4</th>\n",
       "      <td>4</td>\n",
       "      <td>1015700</td>\n",
       "      <td>A</td>\n",
       "      <td>False</td>\n",
       "      <td>276</td>\n",
       "      <td>5</td>\n",
       "      <td>14</td>\n",
       "    </tr>\n",
       "  </tbody>\n",
       "</table>\n",
       "</div>"
      ],
      "text/plain": [
       "   id  user id test group  converted  total ads  most ads day  most ads hour\n",
       "0   0  1069124          A      False        130             1             20\n",
       "1   1  1119715          A      False         93             2             22\n",
       "2   2  1144181          A      False         21             2             18\n",
       "3   3  1435133          A      False        355             2             10\n",
       "4   4  1015700          A      False        276             5             14"
      ]
     },
     "execution_count": 66,
     "metadata": {},
     "output_type": "execute_result"
    }
   ],
   "source": [
    "data.head()"
   ]
  },
  {
   "cell_type": "code",
   "execution_count": 67,
   "id": "3e62abb5-b0a0-4181-a899-00d1ad2c4de4",
   "metadata": {},
   "outputs": [],
   "source": [
    "a_data = data[data['test group'] == 'A']\n",
    "b_data = data[data['test group'] == 'B']"
   ]
  },
  {
   "cell_type": "code",
   "execution_count": 68,
   "id": "c76c21c4-3833-4fa1-9c4f-d5a08efa3d24",
   "metadata": {},
   "outputs": [
    {
     "name": "stdout",
     "output_type": "stream",
     "text": [
      "Доверительный интервал для конверсии в группе А: (2.5, 2.58)\n",
      "Доверительный интервал для конверсии в группе B: (1.61, 1.95)\n"
     ]
    }
   ],
   "source": [
    "lower_bound_a, upper_bound_a  = proportion_confint(\n",
    "    count=a_data['converted'].sum(),\n",
    "    nobs=a_data['user id'].count(),\n",
    "    alpha=0.05\n",
    ")\n",
    "\n",
    "lower_bound_b, upper_bound_b  = proportion_confint(\n",
    "    count=b_data['converted'].sum(),\n",
    "    nobs=b_data['user id'].count(),\n",
    "    alpha=0.05\n",
    ")\n",
    "\n",
    "print('Доверительный интервал для конверсии в группе А: {}'.format((round(lower_bound_a * 100, 2), round(upper_bound_a * 100, 2))))\n",
    "print('Доверительный интервал для конверсии в группе B: {}'.format((round(lower_bound_b * 100, 2), round(upper_bound_b * 100, 2))))"
   ]
  },
  {
   "cell_type": "markdown",
   "id": "2fb4e9bf-2816-4159-9fee-57ebd534fc67",
   "metadata": {},
   "source": [
    "Итак, можно сделать вывод, что с надёжностью в 95% конверсия группы А лежит в интервале от 2.5% до 2.58%, а конверсия группы B лежит в интервале от 1.61% до 1.95%.  \n",
    "То есть конверсия группы А лучше."
   ]
  },
  {
   "cell_type": "code",
   "execution_count": 70,
   "id": "46f5fe02-b11b-46a2-b9a0-fc10d110c654",
   "metadata": {},
   "outputs": [
    {
     "name": "stdout",
     "output_type": "stream",
     "text": [
      "Доверительный интервал для среднего количества увиденной рекламы в группе А: (0.0, 0.01)\n",
      "Доверительный интервал для среднего количества увиденной рекламы в группе B: (0.06, 0.14)\n"
     ]
    }
   ],
   "source": [
    "a_data = data[data['test group'] == 'A']\n",
    "b_data = data[data['test group'] == 'B']\n",
    "\n",
    "lower_bound_a, upper_bound_a  = proportion_confint(\n",
    "    count=a_data['total ads'].mean(),\n",
    "    nobs=a_data['user id'].count(),\n",
    "    alpha=0.05\n",
    ")\n",
    "\n",
    "lower_bound_b, upper_bound_b  = proportion_confint(\n",
    "    count=b_data['total ads'].mean(),\n",
    "    nobs=b_data['user id'].count(),\n",
    "    alpha=0.05\n",
    ")\n",
    "\n",
    "print('Доверительный интервал для среднего количества увиденной рекламы в группе А: {}'.format((round(lower_bound_a * 100, 2), round(upper_bound_a * 100, 2))))\n",
    "print('Доверительный интервал для среднего количества увиденной рекламы в группе B: {}'.format((round(lower_bound_b * 100, 2), round(upper_bound_b * 100, 2))))"
   ]
  },
  {
   "cell_type": "markdown",
   "id": "2b571533-d133-4574-9aa7-f6f3ec00add1",
   "metadata": {},
   "source": [
    "Итак, можно сделать вывод, что с надёжностью в 95% среднее количество увиденной рекламы группы А лежит в интервале от 0% до 0.01%, а среднее количество увиденной рекламы группы B лежит в интервале от 0.06% до 0.14%.  \n",
    "То есть в среднем группа B видела больше рекламы."
   ]
  },
  {
   "cell_type": "markdown",
   "id": "1fb612e9-902f-471a-8065-a34612a324c9",
   "metadata": {
    "jp-MarkdownHeadingCollapsed": true
   },
   "source": [
    "### Построение доверительного интервала разницы конверсий"
   ]
  },
  {
   "cell_type": "code",
   "execution_count": 73,
   "id": "dd9e5dfe-af60-4d56-8939-8ecc00ed1160",
   "metadata": {},
   "outputs": [],
   "source": [
    "def diff_proportion_conf_interval(x_p, n, gamma=0.95):\n",
    "    alpha = 1 - gamma # уровень значимости\n",
    "    diff = x_p[1] - x_p[0] # выборочная разница конверсий групп B и A\n",
    "    z_crit = -norm.ppf(alpha/2) #z-критическое\n",
    "    eps = z_crit * (x_p[0] * (1 - x_p[0])/n[0] + x_p[1] * (1 - x_p[1])/n[1]) ** 0.5 # погрешность\n",
    "    lower_bound = diff - eps # левая (нижняя) граница\n",
    "    upper_bound = diff + eps # правая (верхняя) граница\n",
    "    # возвращаем кортеж из  границ интервала\n",
    "    return lower_bound, upper_bound"
   ]
  },
  {
   "cell_type": "code",
   "execution_count": 74,
   "id": "d978e6e0-a49b-4204-89dc-4d6e49a96d48",
   "metadata": {},
   "outputs": [
    {
     "name": "stdout",
     "output_type": "stream",
     "text": [
      "Доверительный интервал для разности конверсий: (-0.94, -0.59)\n"
     ]
    }
   ],
   "source": [
    "n = [a_data['user id'].count(), b_data['user id'].count()]\n",
    "x_p = [a_data['converted'].mean(), b_data['converted'].mean()]\n",
    "\n",
    "lower_bound, upper_bound = diff_proportion_conf_interval(x_p=x_p, n=n)\n",
    "\n",
    "print('Доверительный интервал для разности конверсий: {}'.format((round(lower_bound*100, 2), round(upper_bound*100, 2))))"
   ]
  },
  {
   "cell_type": "markdown",
   "id": "045fa152-fc28-4c2e-9c3e-ebf80193eca2",
   "metadata": {},
   "source": [
    "Построенный доверительный интервал с 95 %-ой надёжностью говорит нам, что разница в конверсии между вариантом B и вариантом А лежит в интервале от -0.94% до -0.59%."
   ]
  },
  {
   "cell_type": "markdown",
   "id": "1ac4256c-5ec7-4f12-a134-9f9eea01db83",
   "metadata": {},
   "source": [
    "Истинная разница в конверсии  отрицательна. Тогда вариант B хуже по метрике конверсии, чем вариант А с заданной 95 %-ой надёжностью."
   ]
  },
  {
   "cell_type": "markdown",
   "id": "547a7c9c-f013-4264-9926-bfcd1609d093",
   "metadata": {},
   "source": [
    "# Выводы"
   ]
  },
  {
   "cell_type": "markdown",
   "id": "ff4f04c0-4c59-40c2-9849-0b71ff5ad872",
   "metadata": {},
   "source": [
    "Мы убеделись через z-test и доверительные интервалы, что - группа 'psa' видела больше рекламы. Но получается, что успех рекламной кампании обоснован не рекламой, поскольку\n",
    "согласно визуальному представлению, статистическому тесту и доверительным интервалам: **вариант 'psa' работает хуже варианта 'ad'**. "
   ]
  }
 ],
 "metadata": {
  "kernelspec": {
   "display_name": "Python 3 (ipykernel)",
   "language": "python",
   "name": "python3"
  },
  "language_info": {
   "codemirror_mode": {
    "name": "ipython",
    "version": 3
   },
   "file_extension": ".py",
   "mimetype": "text/x-python",
   "name": "python",
   "nbconvert_exporter": "python",
   "pygments_lexer": "ipython3",
   "version": "3.12.4"
  }
 },
 "nbformat": 4,
 "nbformat_minor": 5
}
